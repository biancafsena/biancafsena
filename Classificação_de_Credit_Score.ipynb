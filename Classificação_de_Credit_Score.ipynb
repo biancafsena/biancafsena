{
  "nbformat": 4,
  "nbformat_minor": 0,
  "metadata": {
    "colab": {
      "provenance": [],
      "authorship_tag": "ABX9TyNdjrsKCZnQWFQaemdrj/Oa",
      "include_colab_link": true
    },
    "kernelspec": {
      "name": "python3",
      "display_name": "Python 3"
    },
    "language_info": {
      "name": "python"
    }
  },
  "cells": [
    {
      "cell_type": "markdown",
      "metadata": {
        "id": "view-in-github",
        "colab_type": "text"
      },
      "source": [
        "<a href=\"https://colab.research.google.com/github/biancafsena/biancafsena/blob/main/Classifica%C3%A7%C3%A3o_de_Credit_Score.ipynb\" target=\"_parent\"><img src=\"https://colab.research.google.com/assets/colab-badge.svg\" alt=\"Open In Colab\"/></a>"
      ]
    },
    {
      "cell_type": "markdown",
      "source": [
        "**RM348231 - Bianca Firmino Ferreira de Sena - 3DTSR**\n",
        "\n",
        "\n",
        "\n",
        "\n"
      ],
      "metadata": {
        "id": "Ckc8qJW2s4wl"
      }
    },
    {
      "cell_type": "markdown",
      "source": [
        "# **1-\tCriar um modelo de classificação e aplicar na base e colher e explicar os resultados.**"
      ],
      "metadata": {
        "id": "lnm85SCdimGv"
      }
    },
    {
      "cell_type": "markdown",
      "source": [
        "### **Bibliotecas**"
      ],
      "metadata": {
        "id": "OSTQAeyymdn2"
      }
    },
    {
      "cell_type": "code",
      "source": [
        "import pandas as pd\n",
        "from sklearn.model_selection import train_test_split\n",
        "from sklearn.preprocessing import StandardScaler\n",
        "from sklearn.impute import SimpleImputer\n",
        "from sklearn.metrics import accuracy_score, classification_report, confusion_matrix\n",
        "from sklearn.linear_model import LogisticRegression\n",
        "from sklearn.tree import DecisionTreeClassifier\n",
        "from sklearn.naive_bayes import GaussianNB\n",
        "from sklearn.neighbors import KNeighborsClassifier\n",
        "from sklearn.svm import SVC\n",
        "from sklearn.ensemble import RandomForestClassifier\n",
        "import matplotlib.pyplot as plt"
      ],
      "metadata": {
        "id": "fauw1J2Ks9Vu"
      },
      "execution_count": null,
      "outputs": []
    },
    {
      "cell_type": "markdown",
      "source": [
        "Com objetivo de importar varias bibliotecas com modulos de dados."
      ],
      "metadata": {
        "id": "quV61JhvTrOH"
      }
    },
    {
      "cell_type": "markdown",
      "source": [
        "### **Listas de Modelos**"
      ],
      "metadata": {
        "id": "hWE7wVoAnj3W"
      }
    },
    {
      "cell_type": "code",
      "source": [
        "models = {\n",
        "    'Logistic Regression': LogisticRegression(),\n",
        "    'Decision Tree Classifier': DecisionTreeClassifier(),\n",
        "    'Naive Bayes': GaussianNB(),\n",
        "    'K-Nearest Neighbors': KNeighborsClassifier(),\n",
        "    'Support Vector Machine': SVC(),\n",
        "    'Random Forest Classifier': RandomForestClassifier()\n",
        "}"
      ],
      "metadata": {
        "id": "4yx8czbYnkCc"
      },
      "execution_count": null,
      "outputs": []
    },
    {
      "cell_type": "markdown",
      "source": [
        "O objetivo desse código é criar um dicionário chamado models que associa nomes de algoritmos de aprendizado."
      ],
      "metadata": {
        "id": "UyqOexvdZDx6"
      }
    },
    {
      "cell_type": "markdown",
      "source": [
        "### **Carregar os dados**"
      ],
      "metadata": {
        "id": "vCqLIlAX_s35"
      }
    },
    {
      "cell_type": "code",
      "source": [
        "data = pd.read_csv(\"train.csv\")\n",
        "print(data.head(10))"
      ],
      "metadata": {
        "colab": {
          "base_uri": "https://localhost:8080/"
        },
        "id": "F1aJRCls_tJx",
        "outputId": "4b7baee0-8d9c-4e1b-934c-597616eff75d"
      },
      "execution_count": null,
      "outputs": [
        {
          "output_type": "stream",
          "name": "stdout",
          "text": [
            "       ID Customer_ID     Month             Name   Age          SSN  \\\n",
            "0  0x1602   CUS_0xd40   January    Aaron Maashoh    23  821-00-0265   \n",
            "1  0x1603   CUS_0xd40  February    Aaron Maashoh    23  821-00-0265   \n",
            "2  0x1604   CUS_0xd40     March    Aaron Maashoh  -500  821-00-0265   \n",
            "3  0x1605   CUS_0xd40     April    Aaron Maashoh    23  821-00-0265   \n",
            "4  0x1606   CUS_0xd40       May    Aaron Maashoh    23  821-00-0265   \n",
            "5  0x1607   CUS_0xd40      June    Aaron Maashoh    23  821-00-0265   \n",
            "6  0x1608   CUS_0xd40      July    Aaron Maashoh    23  821-00-0265   \n",
            "7  0x1609   CUS_0xd40    August              NaN    23    #F%$D@*&8   \n",
            "8  0x160e  CUS_0x21b1   January  Rick Rothackerj   28_  004-07-5839   \n",
            "9  0x160f  CUS_0x21b1  February  Rick Rothackerj    28  004-07-5839   \n",
            "\n",
            "  Occupation Annual_Income  Monthly_Inhand_Salary  Num_Bank_Accounts  ...  \\\n",
            "0  Scientist      19114.12            1824.843333                  3  ...   \n",
            "1  Scientist      19114.12                    NaN                  3  ...   \n",
            "2  Scientist      19114.12                    NaN                  3  ...   \n",
            "3  Scientist      19114.12                    NaN                  3  ...   \n",
            "4  Scientist      19114.12            1824.843333                  3  ...   \n",
            "5  Scientist      19114.12                    NaN                  3  ...   \n",
            "6  Scientist      19114.12            1824.843333                  3  ...   \n",
            "7  Scientist      19114.12            1824.843333                  3  ...   \n",
            "8    _______      34847.84            3037.986667                  2  ...   \n",
            "9    Teacher      34847.84            3037.986667                  2  ...   \n",
            "\n",
            "   Credit_Mix  Outstanding_Debt Credit_Utilization_Ratio  \\\n",
            "0           _            809.98                26.822620   \n",
            "1        Good            809.98                31.944960   \n",
            "2        Good            809.98                28.609352   \n",
            "3        Good            809.98                31.377862   \n",
            "4        Good            809.98                24.797347   \n",
            "5        Good            809.98                27.262259   \n",
            "6        Good            809.98                22.537593   \n",
            "7        Good            809.98                23.933795   \n",
            "8        Good            605.03                24.464031   \n",
            "9        Good            605.03                38.550848   \n",
            "\n",
            "      Credit_History_Age  Payment_of_Min_Amount Total_EMI_per_month  \\\n",
            "0  22 Years and 1 Months                     No           49.574949   \n",
            "1                    NaN                     No           49.574949   \n",
            "2  22 Years and 3 Months                     No           49.574949   \n",
            "3  22 Years and 4 Months                     No           49.574949   \n",
            "4  22 Years and 5 Months                     No           49.574949   \n",
            "5  22 Years and 6 Months                     No           49.574949   \n",
            "6  22 Years and 7 Months                     No           49.574949   \n",
            "7                    NaN                     No           49.574949   \n",
            "8  26 Years and 7 Months                     No           18.816215   \n",
            "9  26 Years and 8 Months                     No           18.816215   \n",
            "\n",
            "  Amount_invested_monthly                 Payment_Behaviour  \\\n",
            "0       80.41529543900253   High_spent_Small_value_payments   \n",
            "1      118.28022162236736    Low_spent_Large_value_payments   \n",
            "2         81.699521264648   Low_spent_Medium_value_payments   \n",
            "3       199.4580743910713    Low_spent_Small_value_payments   \n",
            "4      41.420153086217326  High_spent_Medium_value_payments   \n",
            "5      62.430172331195294                            !@9#%8   \n",
            "6       178.3440674122349    Low_spent_Small_value_payments   \n",
            "7      24.785216509052056  High_spent_Medium_value_payments   \n",
            "8        104.291825168246    Low_spent_Small_value_payments   \n",
            "9       40.39123782853101   High_spent_Large_value_payments   \n",
            "\n",
            "      Monthly_Balance Credit_Score  \n",
            "0  312.49408867943663         Good  \n",
            "1  284.62916249607184         Good  \n",
            "2   331.2098628537912         Good  \n",
            "3  223.45130972736786         Good  \n",
            "4  341.48923103222177         Good  \n",
            "5   340.4792117872438         Good  \n",
            "6   244.5653167062043         Good  \n",
            "7  358.12416760938714     Standard  \n",
            "8  470.69062692529184     Standard  \n",
            "9   484.5912142650067         Good  \n",
            "\n",
            "[10 rows x 28 columns]\n"
          ]
        }
      ]
    },
    {
      "cell_type": "markdown",
      "source": [
        "Possui o objetivo de carregar os dados do arquivo CSV \"train.csv\", usando a biblioteca Pandas."
      ],
      "metadata": {
        "id": "dylgwdEdaDm4"
      }
    },
    {
      "cell_type": "markdown",
      "source": [
        "### **Colunas**"
      ],
      "metadata": {
        "id": "JKBStoLhA6Sj"
      }
    },
    {
      "cell_type": "code",
      "source": [
        "print(data.columns)"
      ],
      "metadata": {
        "colab": {
          "base_uri": "https://localhost:8080/"
        },
        "id": "HbQTTRDFA6g0",
        "outputId": "f73a490b-a869-439e-d1d3-c58f5658e1cc"
      },
      "execution_count": null,
      "outputs": [
        {
          "output_type": "stream",
          "name": "stdout",
          "text": [
            "Index(['ID', 'Customer_ID', 'Month', 'Name', 'Age', 'SSN', 'Occupation',\n",
            "       'Annual_Income', 'Monthly_Inhand_Salary', 'Num_Bank_Accounts',\n",
            "       'Num_Credit_Card', 'Interest_Rate', 'Num_of_Loan', 'Type_of_Loan',\n",
            "       'Delay_from_due_date', 'Num_of_Delayed_Payment', 'Changed_Credit_Limit',\n",
            "       'Num_Credit_Inquiries', 'Credit_Mix', 'Outstanding_Debt',\n",
            "       'Credit_Utilization_Ratio', 'Credit_History_Age',\n",
            "       'Payment_of_Min_Amount', 'Total_EMI_per_month',\n",
            "       'Amount_invested_monthly', 'Payment_Behaviour', 'Monthly_Balance',\n",
            "       'Credit_Score'],\n",
            "      dtype='object')\n"
          ]
        }
      ]
    },
    {
      "cell_type": "markdown",
      "source": [
        "Exibir os nomes das colunas apresentadas na base."
      ],
      "metadata": {
        "id": "MUqKcrVSbyrX"
      }
    },
    {
      "cell_type": "markdown",
      "source": [
        "### **Separar as colunas categóricas e numéricas**"
      ],
      "metadata": {
        "id": "1884ynDDAQD4"
      }
    },
    {
      "cell_type": "code",
      "source": [
        "categorical_columns = ['Month', 'Name', 'SSN', 'Occupation', 'Type_pf_Loan', 'Payment_Behaviour']  # Lista das colunas categóricas\n",
        "numeric_columns = ['Age', 'Annual_Income', 'Monthly_Inhand_Salary', 'Num_Bank_Accounts', 'Num_Credit_Card', 'Interest_Rate', 'Num_of_Loan', 'Delay_from_due_date', 'Num_of_Delayed_Payment', 'Changed_Credit_Inquiries', 'Credit_Mix', 'Outstanding_Debt', 'Credit_Utilization_Ratio', 'Credit_History_Age', 'Payment_of_min_Amount', 'Total_EMI_per_month', 'Amount_invested_monthly', 'Monthly_Balance', 'Credit_Score']  # Lista das colunas numéricas\n"
      ],
      "metadata": {
        "id": "9xWAYmosAQZ1"
      },
      "execution_count": null,
      "outputs": []
    },
    {
      "cell_type": "markdown",
      "source": [
        "Objetivo de criar lista separada e possui cateorias distintas: Colunas Categóricas e Colunas Númericas."
      ],
      "metadata": {
        "id": "EemLx0_AcGnR"
      }
    },
    {
      "cell_type": "markdown",
      "source": [
        "### **Remover a coluna 'ID' dos dados**"
      ],
      "metadata": {
        "id": "h9lhbnkaDTRc"
      }
    },
    {
      "cell_type": "code",
      "source": [
        "data.drop(\"ID\", axis=1, inplace=True)"
      ],
      "metadata": {
        "id": "zzCJkyK1DTaf"
      },
      "execution_count": null,
      "outputs": []
    },
    {
      "cell_type": "markdown",
      "source": [
        "Remover a coluna chamada \"ID\" do DataFrame data."
      ],
      "metadata": {
        "id": "EYOi3ff-cvRW"
      }
    },
    {
      "cell_type": "markdown",
      "source": [
        "### **Linhas removidas com valores ausentes**"
      ],
      "metadata": {
        "id": "uCCf5GqQojVZ"
      }
    },
    {
      "cell_type": "code",
      "source": [
        "data.dropna(inplace=True)"
      ],
      "metadata": {
        "id": "Ap7iB_sdojd6"
      },
      "execution_count": null,
      "outputs": []
    },
    {
      "cell_type": "markdown",
      "source": [
        "Possui o objetivo de remover todas as linhas do DataFrame data que contenham pelo menos um valor ausente (NaN)."
      ],
      "metadata": {
        "id": "huumrxSUdc0M"
      }
    },
    {
      "cell_type": "markdown",
      "source": [
        "### **Separar features e target**"
      ],
      "metadata": {
        "id": "qnA-LC5JCF7f"
      }
    },
    {
      "cell_type": "code",
      "source": [
        "X = data.drop(\"Credit_Score\", axis=1)\n",
        "y = data[\"Credit_Score\"]"
      ],
      "metadata": {
        "id": "NoLKnVx6CGZV"
      },
      "execution_count": null,
      "outputs": []
    },
    {
      "cell_type": "markdown",
      "source": [
        "Objetivo de separar o conjunto de dados em duas estruturas: Entrada e Saida, para treinar e avaliar modelos de previsão."
      ],
      "metadata": {
        "id": "vOkrf_Sjd9K5"
      }
    },
    {
      "cell_type": "markdown",
      "source": [
        "### **Garantir que todas as colunas sejam numéricas**"
      ],
      "metadata": {
        "id": "som38cviMpiL"
      }
    },
    {
      "cell_type": "code",
      "source": [
        "X = X.apply(pd.to_numeric, errors='coerce')"
      ],
      "metadata": {
        "id": "wh0KzeRfNqmh"
      },
      "execution_count": null,
      "outputs": []
    },
    {
      "cell_type": "markdown",
      "source": [
        "Converter todas as colunas em númericas."
      ],
      "metadata": {
        "id": "zd4fEmReeqrX"
      }
    },
    {
      "cell_type": "markdown",
      "source": [
        "### **Converter colunas categóricas usando one-hot encoding**"
      ],
      "metadata": {
        "id": "Ei5svtsxpBNu"
      }
    },
    {
      "cell_type": "code",
      "source": [
        "X = pd.get_dummies(X, columns=X.select_dtypes(include=['object']).columns)"
      ],
      "metadata": {
        "id": "q4ajY8AxpCBr"
      },
      "execution_count": null,
      "outputs": []
    },
    {
      "cell_type": "markdown",
      "source": [
        "### **Dividir em conjuntos de treinamento e teste**"
      ],
      "metadata": {
        "id": "Jxt4TY2xCwmH"
      }
    },
    {
      "cell_type": "code",
      "source": [
        "X_train, X_test, y_train, y_test = train_test_split(X, y, test_size=0.2, random_state=42)"
      ],
      "metadata": {
        "id": "2HtxnFJaCwxR"
      },
      "execution_count": null,
      "outputs": []
    },
    {
      "cell_type": "markdown",
      "source": [
        " Realizar a codificação one-hot para as colunas do DataFrame X que contêm tipos de dados \"object\" como colunas categóricas."
      ],
      "metadata": {
        "id": "j360G1rFBMty"
      }
    },
    {
      "cell_type": "markdown",
      "source": [
        "### **Imputação para preencher valores ausentes (NaN)**"
      ],
      "metadata": {
        "id": "pTNethCXMz-2"
      }
    },
    {
      "cell_type": "code",
      "source": [
        "imputer = SimpleImputer(strategy='mean')\n",
        "X_train_imputed = imputer.fit_transform(X_train)\n",
        "X_test_imputed = imputer.transform(X_test)"
      ],
      "metadata": {
        "id": "MZ0ASnPKM0Hh"
      },
      "execution_count": null,
      "outputs": []
    },
    {
      "cell_type": "markdown",
      "source": [
        "Tratamento de valores ausentes nas variáveis do conjunto de dados, preenchendo-os com a média dos valores não ausentes."
      ],
      "metadata": {
        "id": "gaWwgxqnBtPT"
      }
    },
    {
      "cell_type": "markdown",
      "source": [
        "### **Pré-processamento: Padronizar as features numéricas e codificar as categóricas**"
      ],
      "metadata": {
        "id": "osfEOHwBC1ul"
      }
    },
    {
      "cell_type": "code",
      "source": [
        "scaler = StandardScaler()\n",
        "X_train = scaler.fit_transform(X_train)\n",
        "X_test = scaler.transform(X_test)"
      ],
      "metadata": {
        "id": "geZiyQr7C10e",
        "colab": {
          "base_uri": "https://localhost:8080/"
        },
        "outputId": "940b9c09-cc2a-4ef8-bcf9-3cb12d0698ac"
      },
      "execution_count": null,
      "outputs": [
        {
          "output_type": "stream",
          "name": "stderr",
          "text": [
            "/usr/local/lib/python3.10/dist-packages/sklearn/utils/extmath.py:1047: RuntimeWarning: invalid value encountered in divide\n",
            "  updated_mean = (last_sum + new_sum) / updated_sample_count\n",
            "/usr/local/lib/python3.10/dist-packages/sklearn/utils/extmath.py:1052: RuntimeWarning: invalid value encountered in divide\n",
            "  T = new_sum / new_sample_count\n",
            "/usr/local/lib/python3.10/dist-packages/sklearn/utils/extmath.py:1072: RuntimeWarning: invalid value encountered in divide\n",
            "  new_unnormalized_variance -= correction**2 / new_sample_count\n"
          ]
        }
      ]
    },
    {
      "cell_type": "markdown",
      "source": [
        "Possui o objetivo de padronização dos dados nas colunas de recursos, para execução de conjunto no treinamento e teste."
      ],
      "metadata": {
        "id": "2hWb-r60Cof4"
      }
    },
    {
      "cell_type": "markdown",
      "source": [
        "### **Imputação de Valores Ausentes**"
      ],
      "metadata": {
        "id": "QAgbJZRKrUGt"
      }
    },
    {
      "cell_type": "code",
      "source": [
        "from sklearn.impute import SimpleImputer\n",
        "\n",
        "imputer = SimpleImputer(strategy='mean')\n",
        "\n",
        "X_train = imputer.fit_transform(X_train)\n",
        "X_test = imputer.transform(X_test)\n"
      ],
      "metadata": {
        "id": "9copctudrUan"
      },
      "execution_count": null,
      "outputs": []
    },
    {
      "cell_type": "markdown",
      "source": [
        "Objetivo de realizar a imputação de valores ausentes no treinamento(X_train) e teste (X_test) utilizando a estratégia da média (mean) para preencher os valores ausentes."
      ],
      "metadata": {
        "id": "Qaw0ntKCE-Ji"
      }
    },
    {
      "cell_type": "markdown",
      "source": [
        "### **Modelo de Regressão Logística e aplicar na base**"
      ],
      "metadata": {
        "id": "bShkA1PlnSQv"
      }
    },
    {
      "cell_type": "code",
      "source": [
        "import matplotlib.pyplot as plt\n",
        "from sklearn.tree import DecisionTreeClassifier\n",
        "from sklearn.metrics import accuracy_score\n",
        "\n",
        "accuracies = []\n",
        "\n",
        "\n",
        "hyperparameter_values = range(1, 21)\n",
        "\n",
        "for depth in hyperparameter_values:\n",
        "    dt_classifier = DecisionTreeClassifier(max_depth=depth, random_state=42)\n",
        "    dt_classifier.fit(X_train, y_train)\n",
        "    dt_predictions = dt_classifier.predict(X_test)\n",
        "    dt_accuracy = accuracy_score(y_test, dt_predictions)\n",
        "\n",
        "    accuracies.append(dt_accuracy)\n",
        "\n",
        "print(\"Decision Tree Classifier Accuracy:\", dt_accuracy)\n",
        "print(classification_report(y_test, dt_predictions))\n",
        "\n",
        "# Gráfico de evolução da precisão\n",
        "plt.figure(figsize=(10, 6))\n",
        "plt.plot(hyperparameter_values, accuracies, marker='o', linestyle='-')\n",
        "plt.xlabel('Max Depth of Decision Tree')\n",
        "plt.ylabel('Accuracy')\n",
        "plt.title('Accuracy vs. Max Depth of Decision Tree')\n",
        "plt.grid(True)\n",
        "plt.show()\n",
        "\n"
      ],
      "metadata": {
        "colab": {
          "base_uri": "https://localhost:8080/",
          "height": 751
        },
        "id": "AJi0R_i_nSim",
        "outputId": "dac8298d-a938-4e62-ec6c-c364bde5f938"
      },
      "execution_count": null,
      "outputs": [
        {
          "output_type": "stream",
          "name": "stdout",
          "text": [
            "Decision Tree Classifier Accuracy: 0.6644798500468604\n",
            "              precision    recall  f1-score   support\n",
            "\n",
            "        Good       0.59      0.57      0.58       207\n",
            "        Poor       0.63      0.69      0.66       303\n",
            "    Standard       0.71      0.68      0.70       557\n",
            "\n",
            "    accuracy                           0.66      1067\n",
            "   macro avg       0.65      0.65      0.65      1067\n",
            "weighted avg       0.67      0.66      0.66      1067\n",
            "\n"
          ]
        },
        {
          "output_type": "display_data",
          "data": {
            "text/plain": [
              "<Figure size 1000x600 with 1 Axes>"
            ],
            "image/png": "[encoded data removed]"
          },
          "metadata": {}
        }
      ]
    },
    {
      "cell_type": "markdown",
      "source": [
        "Possui o objetivo de avaliar como a precisão (acurácia) de um classificador de Árvore de Decisão (Decision Tree Classifier) se comporta à medida que um hiperparâmetro específico, a profundidade máxima da árvore, é ajustado em um intervalo específico. Esse procedimento visa entender como o desempenho do modelo varia em relação à complexidade da árvore de decisão, permitindo identificar a profundidade ideal da árvore para o problema em questão."
      ],
      "metadata": {
        "id": "4jNlbWgLG0Yz"
      }
    },
    {
      "cell_type": "markdown",
      "source": [
        "### **Regressão Logistica**"
      ],
      "metadata": {
        "id": "S50BqMNcs6ie"
      }
    },
    {
      "cell_type": "code",
      "source": [
        "import matplotlib.pyplot as plt\n",
        "from sklearn.linear_model import LogisticRegression\n",
        "from sklearn.metrics import accuracy_score\n",
        "\n",
        "accuracies = []\n",
        "\n",
        "C_values = [0.001, 0.01, 0.1, 1, 10, 100]\n",
        "\n",
        "for C in C_values:\n",
        "    lr_classifier = LogisticRegression(C=C, random_state=42)\n",
        "    lr_classifier.fit(X_train, y_train)\n",
        "    lr_predictions = lr_classifier.predict(X_test)\n",
        "    lr_accuracy = accuracy_score(y_test, lr_predictions)\n",
        "\n",
        "    accuracies.append(lr_accuracy)\n",
        "\n",
        "print(\"Logistic Regression Accuracy:\", lr_accuracy)\n",
        "print(classification_report(y_test, lr_predictions))\n",
        "\n",
        "# Gráfico de evolução da precisão\n",
        "plt.figure(figsize=(10, 6))\n",
        "plt.semilogx(C_values, accuracies, marker='o', linestyle='-')\n",
        "plt.xlabel('C (Regularization Parameter)')\n",
        "plt.ylabel('Accuracy')\n",
        "plt.title('Accuracy vs. Regularization Parameter (Logistic Regression)')\n",
        "plt.grid(True)\n",
        "plt.show()\n",
        "\n"
      ],
      "metadata": {
        "colab": {
          "base_uri": "https://localhost:8080/",
          "height": 756
        },
        "id": "ReaclEqLs6wn",
        "outputId": "d4906dcc-899f-4ea3-857b-cab8c0ea3134"
      },
      "execution_count": null,
      "outputs": [
        {
          "output_type": "stream",
          "name": "stdout",
          "text": [
            "Logistic Regression Accuracy: 0.569821930646673\n",
            "              precision    recall  f1-score   support\n",
            "\n",
            "        Good       0.44      0.19      0.27       207\n",
            "        Poor       0.61      0.48      0.54       303\n",
            "    Standard       0.57      0.76      0.65       557\n",
            "\n",
            "    accuracy                           0.57      1067\n",
            "   macro avg       0.54      0.48      0.49      1067\n",
            "weighted avg       0.56      0.57      0.55      1067\n",
            "\n"
          ]
        },
        {
          "output_type": "display_data",
          "data": {
            "text/plain": [
              "<Figure size 1000x600 with 1 Axes>"
            ],
            "image/png": "[encoded data removed]"
          },
          "metadata": {}
        }
      ]
    },
    {
      "cell_type": "markdown",
      "source": [
        "Possui o objetivo de analisar como a precisão de um classificador de **Regressão Logística** varia com diferentes níveis de regularização, representados pelo hiperparâmetro C. Isso ajuda a entender como a complexidade do modelo é afetada pela regularização."
      ],
      "metadata": {
        "id": "j8KFfC7YKEkP"
      }
    },
    {
      "cell_type": "markdown",
      "source": [
        "### **Naive Bayes**\n"
      ],
      "metadata": {
        "id": "nn6jKW4stZ2k"
      }
    },
    {
      "cell_type": "code",
      "source": [
        "import matplotlib.pyplot as plt\n",
        "from sklearn.naive_bayes import GaussianNB\n",
        "from sklearn.metrics import accuracy_score\n",
        "\n",
        "accuracies = []\n",
        "\n",
        "train_sizes = [0.6, 0.7, 0.8, 0.9]\n",
        "\n",
        "for train_size in train_sizes:\n",
        "    X_train_subset, _, y_train_subset, _ = train_test_split(X_train, y_train, train_size=train_size, random_state=42)\n",
        "\n",
        "    nb_classifier = GaussianNB()\n",
        "    nb_classifier.fit(X_train_subset, y_train_subset)\n",
        "    nb_predictions = nb_classifier.predict(X_test)\n",
        "\n",
        "    nb_accuracy = accuracy_score(y_test, nb_predictions)\n",
        "    accuracies.append(nb_accuracy)\n",
        "    nb_classifier = GaussianNB()\n",
        "    nb_classifier.fit(X_train, y_train)\n",
        "    nb_predictions = nb_classifier.predict(X_test)\n",
        "    nb_accuracy = accuracy_score(y_test, nb_predictions)\n",
        "\n",
        "    print(\"Naive Bayes Accuracy:\", nb_accuracy)\n",
        "    print(classification_report(y_test, nb_predictions))\n",
        "\n",
        "# Gráfico de evolução da precisão\n",
        "\n",
        "plt.figure(figsize=(10, 6))\n",
        "plt.plot(train_sizes, accuracies, marker='o', linestyle='-')\n",
        "plt.xlabel('Training Set Size')\n",
        "plt.ylabel('Accuracy')\n",
        "plt.title('Accuracy vs. Training Set Size (Naive Bayes)')\n",
        "plt.grid(True)\n",
        "plt.show()\n"
      ],
      "metadata": {
        "colab": {
          "base_uri": "https://localhost:8080/",
          "height": 1000
        },
        "id": "73puGo0ntaEz",
        "outputId": "db82acfe-30bb-4700-cc34-9e88a52683ec"
      },
      "execution_count": null,
      "outputs": [
        {
          "output_type": "stream",
          "name": "stdout",
          "text": [
            "Naive Bayes Accuracy: 0.556550424128181\n",
            "              precision    recall  f1-score   support\n",
            "\n",
            "        Good       0.36      0.49      0.42      1736\n",
            "        Poor       0.59      0.64      0.61      3351\n",
            "    Standard       0.63      0.53      0.57      5523\n",
            "\n",
            "    accuracy                           0.56     10610\n",
            "   macro avg       0.53      0.55      0.54     10610\n",
            "weighted avg       0.57      0.56      0.56     10610\n",
            "\n",
            "Naive Bayes Accuracy: 0.556550424128181\n",
            "              precision    recall  f1-score   support\n",
            "\n",
            "        Good       0.36      0.49      0.42      1736\n",
            "        Poor       0.59      0.64      0.61      3351\n",
            "    Standard       0.63      0.53      0.57      5523\n",
            "\n",
            "    accuracy                           0.56     10610\n",
            "   macro avg       0.53      0.55      0.54     10610\n",
            "weighted avg       0.57      0.56      0.56     10610\n",
            "\n",
            "Naive Bayes Accuracy: 0.556550424128181\n",
            "              precision    recall  f1-score   support\n",
            "\n",
            "        Good       0.36      0.49      0.42      1736\n",
            "        Poor       0.59      0.64      0.61      3351\n",
            "    Standard       0.63      0.53      0.57      5523\n",
            "\n",
            "    accuracy                           0.56     10610\n",
            "   macro avg       0.53      0.55      0.54     10610\n",
            "weighted avg       0.57      0.56      0.56     10610\n",
            "\n",
            "Naive Bayes Accuracy: 0.556550424128181\n",
            "              precision    recall  f1-score   support\n",
            "\n",
            "        Good       0.36      0.49      0.42      1736\n",
            "        Poor       0.59      0.64      0.61      3351\n",
            "    Standard       0.63      0.53      0.57      5523\n",
            "\n",
            "    accuracy                           0.56     10610\n",
            "   macro avg       0.53      0.55      0.54     10610\n",
            "weighted avg       0.57      0.56      0.56     10610\n",
            "\n"
          ]
        },
        {
          "output_type": "display_data",
          "data": {
            "text/plain": [
              "<Figure size 1000x600 with 1 Axes>"
            ],
            "image/png": "[encoded data removed]"
          },
          "metadata": {}
        }
      ]
    },
    {
      "cell_type": "markdown",
      "source": [
        " Possui o objetivo de analisar a precisão de um classificador **Naive Bayes Gaussiano** (GaussianNB) é influenciada pelo tamanho do conjunto de treinamento. Isso ajuda a compreender como a capacidade de generalização do modelo varia com diferentes tamanhos de conjuntos de treinamento."
      ],
      "metadata": {
        "id": "zydgIVWTKyfF"
      }
    },
    {
      "cell_type": "markdown",
      "source": [
        "### **K-Nearest Neighbors (KNN)**"
      ],
      "metadata": {
        "id": "AvUZIK_atkd_"
      }
    },
    {
      "cell_type": "code",
      "source": [
        "import matplotlib.pyplot as plt\n",
        "from sklearn.neighbors import KNeighborsClassifier\n",
        "from sklearn.metrics import accuracy_score\n",
        "\n",
        "accuracies = []\n",
        "k_values = range(1, 21)\n",
        "\n",
        "for k in k_values:\n",
        "    knn_classifier = KNeighborsClassifier(n_neighbors=k)\n",
        "    knn_classifier.fit(X_train, y_train)\n",
        "\n",
        "    knn_predictions = knn_classifier.predict(X_test)\n",
        "    knn_accuracy = accuracy_score(y_test, knn_predictions)\n",
        "    accuracies.append(knn_accuracy)\n",
        "\n",
        "    print(\"K-Nearest Neighbors Accuracy:\", knn_accuracy)\n",
        "    print(classification_report(y_test, knn_predictions))\n",
        "\n",
        "# Gráfico de evolução da precisão\n",
        "\n",
        "plt.figure(figsize=(10, 6))\n",
        "plt.plot(k_values, accuracies, marker='o', linestyle='-')\n",
        "plt.xlabel('Number of Neighbors (k)')\n",
        "plt.ylabel('Accuracy')\n",
        "plt.title('Accuracy vs. Number of Neighbors (KNN)')\n",
        "plt.grid(True)\n",
        "plt.show()\n"
      ],
      "metadata": {
        "colab": {
          "base_uri": "https://localhost:8080/",
          "height": 1000
        },
        "id": "S34Nj4whtkj-",
        "outputId": "863f9c95-8355-4bff-dcc8-ced9042fe330"
      },
      "execution_count": null,
      "outputs": [
        {
          "output_type": "stream",
          "name": "stdout",
          "text": [
            "K-Nearest Neighbors Accuracy: 0.5613870665417057\n",
            "              precision    recall  f1-score   support\n",
            "\n",
            "        Good       0.45      0.39      0.42       207\n",
            "        Poor       0.53      0.58      0.55       303\n",
            "    Standard       0.62      0.62      0.62       557\n",
            "\n",
            "    accuracy                           0.56      1067\n",
            "   macro avg       0.53      0.53      0.53      1067\n",
            "weighted avg       0.56      0.56      0.56      1067\n",
            "\n",
            "K-Nearest Neighbors Accuracy: 0.5032802249297095\n",
            "              precision    recall  f1-score   support\n",
            "\n",
            "        Good       0.37      0.55      0.44       207\n",
            "        Poor       0.48      0.70      0.57       303\n",
            "    Standard       0.66      0.38      0.48       557\n",
            "\n",
            "    accuracy                           0.50      1067\n",
            "   macro avg       0.50      0.54      0.50      1067\n",
            "weighted avg       0.55      0.50      0.50      1067\n",
            "\n",
            "K-Nearest Neighbors Accuracy: 0.5388940955951266\n",
            "              precision    recall  f1-score   support\n",
            "\n",
            "        Good       0.37      0.43      0.40       207\n",
            "        Poor       0.56      0.51      0.53       303\n",
            "    Standard       0.60      0.60      0.60       557\n",
            "\n",
            "    accuracy                           0.54      1067\n",
            "   macro avg       0.51      0.51      0.51      1067\n",
            "weighted avg       0.55      0.54      0.54      1067\n",
            "\n",
            "K-Nearest Neighbors Accuracy: 0.542642924086223\n",
            "              precision    recall  f1-score   support\n",
            "\n",
            "        Good       0.40      0.45      0.43       207\n",
            "        Poor       0.53      0.66      0.59       303\n",
            "    Standard       0.63      0.51      0.56       557\n",
            "\n",
            "    accuracy                           0.54      1067\n",
            "   macro avg       0.52      0.54      0.53      1067\n",
            "weighted avg       0.55      0.54      0.54      1067\n",
            "\n",
            "K-Nearest Neighbors Accuracy: 0.5482661668228679\n",
            "              precision    recall  f1-score   support\n",
            "\n",
            "        Good       0.39      0.40      0.39       207\n",
            "        Poor       0.55      0.55      0.55       303\n",
            "    Standard       0.61      0.60      0.60       557\n",
            "\n",
            "    accuracy                           0.55      1067\n",
            "   macro avg       0.52      0.52      0.52      1067\n",
            "weighted avg       0.55      0.55      0.55      1067\n",
            "\n",
            "K-Nearest Neighbors Accuracy: 0.5595126522961574\n",
            "              precision    recall  f1-score   support\n",
            "\n",
            "        Good       0.41      0.41      0.41       207\n",
            "        Poor       0.55      0.59      0.57       303\n",
            "    Standard       0.62      0.60      0.61       557\n",
            "\n",
            "    accuracy                           0.56      1067\n",
            "   macro avg       0.53      0.53      0.53      1067\n",
            "weighted avg       0.56      0.56      0.56      1067\n",
            "\n",
            "K-Nearest Neighbors Accuracy: 0.5707591377694471\n",
            "              precision    recall  f1-score   support\n",
            "\n",
            "        Good       0.47      0.40      0.43       207\n",
            "        Poor       0.55      0.55      0.55       303\n",
            "    Standard       0.61      0.64      0.63       557\n",
            "\n",
            "    accuracy                           0.57      1067\n",
            "   macro avg       0.54      0.53      0.54      1067\n",
            "weighted avg       0.57      0.57      0.57      1067\n",
            "\n",
            "K-Nearest Neighbors Accuracy: 0.5707591377694471\n",
            "              precision    recall  f1-score   support\n",
            "\n",
            "        Good       0.47      0.42      0.44       207\n",
            "        Poor       0.54      0.60      0.57       303\n",
            "    Standard       0.62      0.61      0.62       557\n",
            "\n",
            "    accuracy                           0.57      1067\n",
            "   macro avg       0.54      0.54      0.54      1067\n",
            "weighted avg       0.57      0.57      0.57      1067\n",
            "\n",
            "K-Nearest Neighbors Accuracy: 0.5791940018744143\n",
            "              precision    recall  f1-score   support\n",
            "\n",
            "        Good       0.47      0.39      0.43       207\n",
            "        Poor       0.56      0.55      0.56       303\n",
            "    Standard       0.62      0.67      0.64       557\n",
            "\n",
            "    accuracy                           0.58      1067\n",
            "   macro avg       0.55      0.53      0.54      1067\n",
            "weighted avg       0.57      0.58      0.58      1067\n",
            "\n",
            "K-Nearest Neighbors Accuracy: 0.5716963448922212\n",
            "              precision    recall  f1-score   support\n",
            "\n",
            "        Good       0.46      0.34      0.39       207\n",
            "        Poor       0.55      0.58      0.56       303\n",
            "    Standard       0.61      0.65      0.63       557\n",
            "\n",
            "    accuracy                           0.57      1067\n",
            "   macro avg       0.54      0.52      0.53      1067\n",
            "weighted avg       0.57      0.57      0.57      1067\n",
            "\n",
            "K-Nearest Neighbors Accuracy: 0.584817244611059\n",
            "              precision    recall  f1-score   support\n",
            "\n",
            "        Good       0.45      0.31      0.37       207\n",
            "        Poor       0.60      0.57      0.58       303\n",
            "    Standard       0.61      0.69      0.65       557\n",
            "\n",
            "    accuracy                           0.58      1067\n",
            "   macro avg       0.55      0.53      0.53      1067\n",
            "weighted avg       0.58      0.58      0.58      1067\n",
            "\n",
            "K-Nearest Neighbors Accuracy: 0.5791940018744143\n",
            "              precision    recall  f1-score   support\n",
            "\n",
            "        Good       0.43      0.30      0.36       207\n",
            "        Poor       0.59      0.59      0.59       303\n",
            "    Standard       0.61      0.68      0.64       557\n",
            "\n",
            "    accuracy                           0.58      1067\n",
            "   macro avg       0.54      0.52      0.53      1067\n",
            "weighted avg       0.57      0.58      0.57      1067\n",
            "\n",
            "K-Nearest Neighbors Accuracy: 0.5838800374882849\n",
            "              precision    recall  f1-score   support\n",
            "\n",
            "        Good       0.44      0.28      0.34       207\n",
            "        Poor       0.59      0.58      0.59       303\n",
            "    Standard       0.61      0.70      0.65       557\n",
            "\n",
            "    accuracy                           0.58      1067\n",
            "   macro avg       0.55      0.52      0.53      1067\n",
            "weighted avg       0.57      0.58      0.57      1067\n",
            "\n",
            "K-Nearest Neighbors Accuracy: 0.5857544517338332\n",
            "              precision    recall  f1-score   support\n",
            "\n",
            "        Good       0.44      0.27      0.34       207\n",
            "        Poor       0.60      0.58      0.59       303\n",
            "    Standard       0.61      0.71      0.65       557\n",
            "\n",
            "    accuracy                           0.59      1067\n",
            "   macro avg       0.55      0.52      0.53      1067\n",
            "weighted avg       0.57      0.59      0.57      1067\n",
            "\n",
            "K-Nearest Neighbors Accuracy: 0.6110590440487348\n",
            "              precision    recall  f1-score   support\n",
            "\n",
            "        Good       0.49      0.27      0.35       207\n",
            "        Poor       0.64      0.57      0.60       303\n",
            "    Standard       0.62      0.76      0.68       557\n",
            "\n",
            "    accuracy                           0.61      1067\n",
            "   macro avg       0.58      0.53      0.54      1067\n",
            "weighted avg       0.60      0.61      0.60      1067\n",
            "\n",
            "K-Nearest Neighbors Accuracy: 0.5904404873477038\n",
            "              precision    recall  f1-score   support\n",
            "\n",
            "        Good       0.45      0.25      0.32       207\n",
            "        Poor       0.61      0.58      0.59       303\n",
            "    Standard       0.61      0.73      0.66       557\n",
            "\n",
            "    accuracy                           0.59      1067\n",
            "   macro avg       0.56      0.52      0.52      1067\n",
            "weighted avg       0.58      0.59      0.57      1067\n",
            "\n",
            "K-Nearest Neighbors Accuracy: 0.5998125585754451\n",
            "              precision    recall  f1-score   support\n",
            "\n",
            "        Good       0.48      0.27      0.35       207\n",
            "        Poor       0.62      0.57      0.59       303\n",
            "    Standard       0.61      0.74      0.67       557\n",
            "\n",
            "    accuracy                           0.60      1067\n",
            "   macro avg       0.57      0.53      0.54      1067\n",
            "weighted avg       0.59      0.60      0.59      1067\n",
            "\n",
            "K-Nearest Neighbors Accuracy: 0.5885660731021556\n",
            "              precision    recall  f1-score   support\n",
            "\n",
            "        Good       0.44      0.23      0.30       207\n",
            "        Poor       0.61      0.56      0.59       303\n",
            "    Standard       0.61      0.73      0.66       557\n",
            "\n",
            "    accuracy                           0.59      1067\n",
            "   macro avg       0.55      0.51      0.52      1067\n",
            "weighted avg       0.57      0.59      0.57      1067\n",
            "\n",
            "K-Nearest Neighbors Accuracy: 0.5866916588566073\n",
            "              precision    recall  f1-score   support\n",
            "\n",
            "        Good       0.44      0.22      0.29       207\n",
            "        Poor       0.61      0.55      0.58       303\n",
            "    Standard       0.60      0.74      0.66       557\n",
            "\n",
            "    accuracy                           0.59      1067\n",
            "   macro avg       0.55      0.50      0.51      1067\n",
            "weighted avg       0.57      0.59      0.57      1067\n",
            "\n",
            "K-Nearest Neighbors Accuracy: 0.5866916588566073\n",
            "              precision    recall  f1-score   support\n",
            "\n",
            "        Good       0.43      0.23      0.30       207\n",
            "        Poor       0.61      0.56      0.59       303\n",
            "    Standard       0.60      0.73      0.66       557\n",
            "\n",
            "    accuracy                           0.59      1067\n",
            "   macro avg       0.55      0.51      0.52      1067\n",
            "weighted avg       0.57      0.59      0.57      1067\n",
            "\n"
          ]
        },
        {
          "output_type": "display_data",
          "data": {
            "text/plain": [
              "<Figure size 1000x600 with 1 Axes>"
            ],
            "image/png": "[encoded data removed]"
          },
          "metadata": {}
        }
      ]
    },
    {
      "cell_type": "markdown",
      "source": [
        "Com o objetivo de analisar a precisão de um classificador K-Vizinhos mais Próximos (KNN) é influenciada pela variação do número de vizinhos (hiperparâmetro k) em um intervalo específico. Isso ajuda a determinar qual valor de k proporciona o melhor desempenho do modelo KNN."
      ],
      "metadata": {
        "id": "ni3eJDebPOTw"
      }
    },
    {
      "cell_type": "markdown",
      "source": [
        "### **Support Vector Machine (SVM)**"
      ],
      "metadata": {
        "id": "POySWeKHttwp"
      }
    },
    {
      "cell_type": "code",
      "source": [
        "import matplotlib.pyplot as plt\n",
        "from sklearn.svm import SVC\n",
        "from sklearn.metrics import accuracy_score\n",
        "\n",
        "accuracies = []\n",
        "\n",
        "C_values = [0.001, 0.01, 0.1, 1, 10, 100]\n",
        "\n",
        "for C in C_values:\n",
        "    svm_classifier = SVC(C=C, random_state=42)\n",
        "    svm_classifier.fit(X_train, y_train)\n",
        "    svm_predictions = svm_classifier.predict(X_test)\n",
        "    svm_accuracy = accuracy_score(y_test, svm_predictions)\n",
        "\n",
        "    accuracies.append(svm_accuracy)\n",
        "\n",
        "# Gráfico de evolução da precisão\n",
        "plt.figure(figsize=(10, 6))\n",
        "plt.semilogx(C_values, accuracies, marker='o', linestyle='-')\n",
        "plt.xlabel('C (Regularization Parameter)')\n",
        "plt.ylabel('Accuracy')\n",
        "plt.title('Accuracy vs. Regularization Parameter (SVM)')\n",
        "plt.grid(True)\n",
        "plt.show()\n"
      ],
      "metadata": {
        "id": "UYn2V9VIqQJ1",
        "colab": {
          "base_uri": "https://localhost:8080/",
          "height": 569
        },
        "outputId": "4a958744-d4a4-4849-964d-b42c172fefe1"
      },
      "execution_count": null,
      "outputs": [
        {
          "output_type": "display_data",
          "data": {
            "text/plain": [
              "<Figure size 1000x600 with 1 Axes>"
            ],
            "image/png": "[encoded data removed]"
          },
          "metadata": {}
        }
      ]
    },
    {
      "cell_type": "markdown",
      "source": [
        "Analisar a precisão de um classificador **Support Vector Machine (SVM)** onde é influenciada pela variação do hiperparâmetro de regularização C no conjunto específico de valores. O objetivo é entender como a escolha do parâmetro de regularização C afeta a precisão do modelo SVM e identificar o valor de C que resulta no melhor desempenho."
      ],
      "metadata": {
        "id": "2E4vEyRaSgmE"
      }
    },
    {
      "cell_type": "markdown",
      "source": [
        "### **Regressão Logistica X Naive Bayes**"
      ],
      "metadata": {
        "id": "zWdsbyIuqp7M"
      }
    },
    {
      "cell_type": "code",
      "source": [
        "import numpy as np\n",
        "import pandas as pd\n",
        "from sklearn.model_selection import train_test_split\n",
        "from sklearn.preprocessing import StandardScaler\n",
        "from sklearn.linear_model import LogisticRegression\n",
        "from sklearn.naive_bayes import GaussianNB\n",
        "from sklearn.metrics import accuracy_score\n",
        "import matplotlib.pyplot as plt\n",
        "\n",
        "np.random.seed(42)\n",
        "X = np.random.randn(100, 2)\n",
        "y = np.random.randint(0, 2, 100)\n",
        "\n",
        "X_train, X_test, y_train, y_test = train_test_split(X, y, test_size=0.2, random_state=42)\n",
        "\n",
        "scaler = StandardScaler()\n",
        "X_train = scaler.fit_transform(X_train)\n",
        "X_test = scaler.transform(X_test)\n",
        "\n",
        "logistic_reg = LogisticRegression(random_state=42)\n",
        "logistic_reg.fit(X_train, y_train)\n",
        "\n",
        "logistic_predictions = logistic_reg.predict(X_test)\n",
        "\n",
        "logistic_accuracy = accuracy_score(y_test, logistic_predictions)\n",
        "\n",
        "naive_bayes = GaussianNB()\n",
        "naive_bayes.fit(X_train, y_train)\n",
        "\n",
        "naive_bayes_predictions = naive_bayes.predict(X_test)\n",
        "\n",
        "naive_bayes_accuracy = accuracy_score(y_test, naive_bayes_predictions)\n",
        "\n",
        "models = ['Regressão Logística', 'Naive Bayes']\n",
        "accuracies = [logistic_accuracy, naive_bayes_accuracy]\n",
        "\n",
        "plt.figure(figsize=(8, 6))\n",
        "plt.bar(models, accuracies, color=['blue', 'green'])\n",
        "plt.ylabel('Acurácia')\n",
        "plt.title('Comparação de Acurácia entre Modelos')\n",
        "plt.ylim(0, 1)\n",
        "\n",
        "for i, v in enumerate(accuracies):\n",
        "    plt.text(i, v + 0.02, str(round(v, 2)), ha='center', va='bottom')\n",
        "\n",
        "plt.show()\n"
      ],
      "metadata": {
        "colab": {
          "base_uri": "https://localhost:8080/",
          "height": 546
        },
        "id": "Rr0eZzDgsOm-",
        "outputId": "144efcfd-e68c-444d-eb62-160bc4e71011"
      },
      "execution_count": null,
      "outputs": [
        {
          "output_type": "display_data",
          "data": {
            "text/plain": [
              "<Figure size 800x600 with 1 Axes>"
            ],
            "image/png": "[encoded data removed]"
          },
          "metadata": {}
        }
      ]
    },
    {
      "cell_type": "markdown",
      "source": [
        "Possui o objetivo de comparar o desempenho de dois modelos de aprendizado de máquina, **Regressão Logística** e **Naive Bayes** (GaussianNB). O código realiza essa comparação e apresenta as diferenças de desempenho por meio de um gráfico de barras, utilizando a acurácia como métrica de avaliação."
      ],
      "metadata": {
        "id": "wCi8Y08XUfJa"
      }
    },
    {
      "cell_type": "markdown",
      "source": [
        "## **Conclusão**\n",
        "\n",
        "Referente aos dados do arquivo (train.csv), com execução dos códigos para fornecer a introdução ao fluxo de trabalho típico de machine learning, desde a preparação dos dados até a avaliação de modelos.\n",
        "\n",
        "Os dados podem servir como base para construir e testar modelos mais sofisticados em projetos de machine learning com conjuntos de dados reais."
      ],
      "metadata": {
        "id": "cApF11cyk9mD"
      }
    },
    {
      "cell_type": "markdown",
      "source": [
        "# **2 -\tCriar um sistema especialista ou Usar um algoritmo não supervisionado na base e falar da experiencia.**"
      ],
      "metadata": {
        "id": "dG_pKYvVj-RE"
      }
    },
    {
      "cell_type": "markdown",
      "source": [
        "### **Valores problemáticos da coluna (Age)**"
      ],
      "metadata": {
        "id": "meACPL8UX3GO"
      }
    },
    {
      "cell_type": "code",
      "source": [
        "problematic_values = data['Age'][pd.to_numeric(data['Age'], errors='coerce').isna()].unique()\n",
        "print(\"Problematic Values in 'Age' column:\", problematic_values)\n"
      ],
      "metadata": {
        "colab": {
          "base_uri": "https://localhost:8080/"
        },
        "id": "N8Kn0Oe0Oswl",
        "outputId": "d4457fe1-3c23-44e1-908a-2d144b664fe3"
      },
      "execution_count": null,
      "outputs": [
        {
          "output_type": "stream",
          "name": "stdout",
          "text": [
            "Problematic Values in 'Age' column: ['28_' '24_' '33_' '35_' '30_' '54_' '21_' '37_' '18_' '2111_' '46_' '16_'\n",
            " '25_' '38_' '27_' '19_' '55_' '31_' '43_' '48_' '34_' '22_' '20_' '15_'\n",
            " '51_' '26_' '40_' '50_' '14_' '39_' '36_' '53_' '44_' '45_' '42_' '32_'\n",
            " '23_' '41_' '29_' '52_' '17_' '49_' '5769_' '4383_' '56_' '2650_' '3307_'\n",
            " '6556_']\n"
          ]
        }
      ]
    },
    {
      "cell_type": "markdown",
      "source": [
        "Identificar e imprimir os valores problemáticos na coluna 'Age' do conjunto de dados."
      ],
      "metadata": {
        "id": "YHjnXR7yV2xI"
      }
    },
    {
      "cell_type": "markdown",
      "source": [
        "### **Tratando Valores Não Numéricos na Coluna (Age)**"
      ],
      "metadata": {
        "id": "K45EAoEuYrEX"
      }
    },
    {
      "cell_type": "code",
      "source": [
        "data = data[pd.to_numeric(data['Age'], errors='coerce').notna()]\n"
      ],
      "metadata": {
        "id": "E5sN1FZMO5yi"
      },
      "execution_count": null,
      "outputs": []
    },
    {
      "cell_type": "markdown",
      "source": [
        "Analisar e filtrar o conjunto de dados para manter apenas as linhas em que a coluna 'Age' contém valores numéricos válidos, descartando as linhas em que a conversão para numérico resultaria em NaN (Not-a-Number)."
      ],
      "metadata": {
        "id": "6ojU3VhFXvyz"
      }
    },
    {
      "cell_type": "markdown",
      "source": [],
      "metadata": {
        "id": "gpSjiLxfYxEm"
      }
    },
    {
      "cell_type": "code",
      "source": [
        "non_numeric_columns = data.select_dtypes(exclude=[np.number]).columns\n",
        "\n",
        "for column in non_numeric_columns:\n",
        "    problematic_values = data[column][pd.to_numeric(data[column], errors='coerce').isna()].unique()\n",
        "    print(f\"Problematic Values in '{column}' column:\", problematic_values)\n",
        "\n"
      ],
      "metadata": {
        "colab": {
          "base_uri": "https://localhost:8080/"
        },
        "id": "QJX2dAbLPAF1",
        "outputId": "b1ea6a4b-2ea0-4d89-fb3e-abac9879715e"
      },
      "execution_count": null,
      "outputs": [
        {
          "output_type": "stream",
          "name": "stdout",
          "text": [
            "Problematic Values in 'Customer_ID' column: ['CUS_0xd40' 'CUS_0x21b1' 'CUS_0x2dbc' ... 'CUS_0x97b' 'CUS_0x765b'\n",
            " 'CUS_0x6f4d']\n",
            "Problematic Values in 'Month' column: ['January' 'July' 'February' 'March' 'May' 'June' 'August' 'April']\n",
            "Problematic Values in 'Name' column: ['Aaron Maashoh' 'Rick Rothackerj' 'Langep' ... 'Lawdero' 'Jane Leeb'\n",
            " 'Luke Bakerg']\n",
            "Problematic Values in 'SSN' column: ['821-00-0265' '004-07-5839' '486-85-3974' ... '578-67-3819' '948-33-7459'\n",
            " '499-40-6829']\n",
            "Problematic Values in 'Occupation' column: ['Scientist' 'Teacher' '_______' 'Engineer' 'Entrepreneur' 'Lawyer'\n",
            " 'Media_Manager' 'Doctor' 'Journalist' 'Manager' 'Mechanic' 'Writer'\n",
            " 'Accountant' 'Architect' 'Musician' 'Developer']\n",
            "Problematic Values in 'Num_of_Loan' column: ['3_' '5_' '2_' '4_' '7_' '1_' '8_' '6_' '9_' '597_' '92_']\n",
            "Problematic Values in 'Type_of_Loan' column: ['Auto Loan, Credit-Builder Loan, Personal Loan, and Home Equity Loan'\n",
            " 'Credit-Builder Loan' 'Auto Loan, Auto Loan, and Not Specified'\n",
            " 'Not Specified' 'Credit-Builder Loan, and Mortgage Loan'\n",
            " 'Not Specified, Auto Loan, and Student Loan'\n",
            " 'Personal Loan, Debt Consolidation Loan, and Auto Loan'\n",
            " 'Not Specified, and Payday Loan'\n",
            " 'Credit-Builder Loan, Personal Loan, and Auto Loan'\n",
            " 'Payday Loan, and Payday Loan'\n",
            " 'Not Specified, Student Loan, and Personal Loan'\n",
            " 'Personal Loan, Payday Loan, Student Loan, Auto Loan, Home Equity Loan, Student Loan, and Payday Loan'\n",
            " 'Not Specified, Student Loan, Student Loan, Credit-Builder Loan, and Auto Loan'\n",
            " 'Payday Loan, and Home Equity Loan'\n",
            " 'Credit-Builder Loan, Not Specified, Mortgage Loan, Payday Loan, Credit-Builder Loan, and Personal Loan'\n",
            " 'Mortgage Loan, Debt Consolidation Loan, Payday Loan, Auto Loan, and Not Specified'\n",
            " 'Credit-Builder Loan, Mortgage Loan, Mortgage Loan, Credit-Builder Loan, and Student Loan'\n",
            " 'Not Specified, Student Loan, and Student Loan'\n",
            " 'Payday Loan, Not Specified, Credit-Builder Loan, Debt Consolidation Loan, Payday Loan, Not Specified, Student Loan, and Student Loan'\n",
            " 'Home Equity Loan, Credit-Builder Loan, and Home Equity Loan'\n",
            " 'Home Equity Loan, Credit-Builder Loan, Credit-Builder Loan, Home Equity Loan, Debt Consolidation Loan, Mortgage Loan, and Auto Loan'\n",
            " 'Debt Consolidation Loan' 'Payday Loan, Not Specified, and Auto Loan'\n",
            " 'Auto Loan, Student Loan, Payday Loan, Payday Loan, Mortgage Loan, and Debt Consolidation Loan'\n",
            " 'Auto Loan, and Home Equity Loan'\n",
            " 'Payday Loan, Not Specified, Student Loan, Credit-Builder Loan, Credit-Builder Loan, and Payday Loan'\n",
            " 'Mortgage Loan, and Payday Loan'\n",
            " 'Mortgage Loan, Personal Loan, Home Equity Loan, Personal Loan, Mortgage Loan, and Personal Loan'\n",
            " 'Personal Loan, Credit-Builder Loan, Debt Consolidation Loan, Not Specified, and Not Specified'\n",
            " 'Home Equity Loan, Mortgage Loan, Credit-Builder Loan, and Payday Loan'\n",
            " 'Home Equity Loan, Credit-Builder Loan, Personal Loan, and Mortgage Loan'\n",
            " 'Mortgage Loan, and Not Specified'\n",
            " 'Credit-Builder Loan, Payday Loan, Home Equity Loan, Credit-Builder Loan, Personal Loan, and Credit-Builder Loan'\n",
            " 'Credit-Builder Loan, Personal Loan, Credit-Builder Loan, and Home Equity Loan'\n",
            " 'Personal Loan, Mortgage Loan, and Payday Loan'\n",
            " 'Student Loan, Home Equity Loan, Payday Loan, Debt Consolidation Loan, Not Specified, Not Specified, Personal Loan, and Payday Loan'\n",
            " 'Credit-Builder Loan, Personal Loan, Credit-Builder Loan, Mortgage Loan, Personal Loan, Payday Loan, Payday Loan, Payday Loan, and Student Loan'\n",
            " 'Auto Loan, and Payday Loan'\n",
            " 'Student Loan, Auto Loan, Personal Loan, Auto Loan, Credit-Builder Loan, Payday Loan, Home Equity Loan, Auto Loan, and Personal Loan'\n",
            " 'Personal Loan, and Student Loan'\n",
            " 'Auto Loan, Payday Loan, Debt Consolidation Loan, Debt Consolidation Loan, Not Specified, and Student Loan'\n",
            " 'Not Specified, Student Loan, Auto Loan, Home Equity Loan, and Mortgage Loan'\n",
            " 'Student Loan, Payday Loan, Personal Loan, Not Specified, Mortgage Loan, Student Loan, Debt Consolidation Loan, and Debt Consolidation Loan'\n",
            " 'Personal Loan, Student Loan, Home Equity Loan, Not Specified, Home Equity Loan, Home Equity Loan, and Mortgage Loan'\n",
            " 'Not Specified, Personal Loan, Credit-Builder Loan, and Home Equity Loan'\n",
            " 'Auto Loan, Personal Loan, Mortgage Loan, Auto Loan, Student Loan, Auto Loan, Mortgage Loan, Student Loan, and Auto Loan'\n",
            " 'Auto Loan, Credit-Builder Loan, Mortgage Loan, Debt Consolidation Loan, Debt Consolidation Loan, Not Specified, and Debt Consolidation Loan'\n",
            " 'Mortgage Loan, Personal Loan, and Not Specified'\n",
            " 'Credit-Builder Loan, Home Equity Loan, Home Equity Loan, Student Loan, Student Loan, Home Equity Loan, and Credit-Builder Loan'\n",
            " 'Not Specified, Credit-Builder Loan, Payday Loan, and Credit-Builder Loan'\n",
            " 'Debt Consolidation Loan, Home Equity Loan, and Personal Loan'\n",
            " 'Student Loan, Student Loan, Student Loan, Debt Consolidation Loan, Home Equity Loan, Debt Consolidation Loan, and Payday Loan'\n",
            " 'Home Equity Loan, Credit-Builder Loan, Debt Consolidation Loan, Payday Loan, and Home Equity Loan'\n",
            " 'Home Equity Loan, Mortgage Loan, Debt Consolidation Loan, Home Equity Loan, Personal Loan, and Personal Loan'\n",
            " 'Not Specified, Payday Loan, Auto Loan, and Home Equity Loan'\n",
            " 'Mortgage Loan, Student Loan, Not Specified, and Mortgage Loan'\n",
            " 'Mortgage Loan, Auto Loan, Personal Loan, Student Loan, Home Equity Loan, and Student Loan'\n",
            " 'Payday Loan, and Not Specified'\n",
            " 'Auto Loan, Not Specified, Payday Loan, Mortgage Loan, Personal Loan, Payday Loan, and Personal Loan'\n",
            " 'Home Equity Loan, and Student Loan'\n",
            " 'Personal Loan, Payday Loan, Auto Loan, Debt Consolidation Loan, and Debt Consolidation Loan'\n",
            " 'Auto Loan'\n",
            " 'Credit-Builder Loan, Mortgage Loan, Auto Loan, Auto Loan, Not Specified, and Home Equity Loan'\n",
            " 'Student Loan, Auto Loan, Auto Loan, and Payday Loan' 'Home Equity Loan'\n",
            " 'Payday Loan, Auto Loan, Credit-Builder Loan, Debt Consolidation Loan, Credit-Builder Loan, Auto Loan, and Personal Loan'\n",
            " 'Student Loan, and Auto Loan' 'Student Loan'\n",
            " 'Auto Loan, Auto Loan, Auto Loan, and Personal Loan'\n",
            " 'Mortgage Loan, and Mortgage Loan'\n",
            " 'Personal Loan, Payday Loan, and Auto Loan'\n",
            " 'Mortgage Loan, Not Specified, Credit-Builder Loan, Debt Consolidation Loan, Not Specified, Mortgage Loan, and Student Loan'\n",
            " 'Mortgage Loan, Auto Loan, Not Specified, Student Loan, and Payday Loan'\n",
            " 'Student Loan, Mortgage Loan, Not Specified, and Not Specified'\n",
            " 'Home Equity Loan, Credit-Builder Loan, Student Loan, and Personal Loan'\n",
            " 'Student Loan, Not Specified, Not Specified, Credit-Builder Loan, Student Loan, Mortgage Loan, Not Specified, and Student Loan'\n",
            " 'Debt Consolidation Loan, Home Equity Loan, Auto Loan, Home Equity Loan, and Debt Consolidation Loan'\n",
            " 'Personal Loan, and Payday Loan'\n",
            " 'Student Loan, Debt Consolidation Loan, Credit-Builder Loan, and Home Equity Loan'\n",
            " 'Personal Loan, Debt Consolidation Loan, Debt Consolidation Loan, and Student Loan'\n",
            " 'Student Loan, Personal Loan, Home Equity Loan, Home Equity Loan, and Auto Loan'\n",
            " 'Student Loan, Student Loan, Debt Consolidation Loan, and Mortgage Loan'\n",
            " 'Auto Loan, Auto Loan, Student Loan, and Home Equity Loan'\n",
            " 'Mortgage Loan, Student Loan, Student Loan, Payday Loan, Mortgage Loan, and Debt Consolidation Loan'\n",
            " 'Not Specified, Debt Consolidation Loan, Home Equity Loan, and Mortgage Loan'\n",
            " 'Debt Consolidation Loan, Debt Consolidation Loan, and Credit-Builder Loan'\n",
            " 'Student Loan, Debt Consolidation Loan, and Auto Loan'\n",
            " 'Mortgage Loan, Student Loan, and Mortgage Loan'\n",
            " 'Auto Loan, Auto Loan, Credit-Builder Loan, Not Specified, Not Specified, and Not Specified'\n",
            " 'Auto Loan, and Auto Loan' 'Payday Loan, and Debt Consolidation Loan'\n",
            " 'Home Equity Loan, Credit-Builder Loan, Personal Loan, and Not Specified'\n",
            " 'Mortgage Loan, Home Equity Loan, Personal Loan, Payday Loan, Not Specified, Student Loan, Payday Loan, and Payday Loan'\n",
            " 'Payday Loan, Payday Loan, Not Specified, Student Loan, Mortgage Loan, Payday Loan, Mortgage Loan, and Credit-Builder Loan'\n",
            " 'Personal Loan, Student Loan, Payday Loan, Personal Loan, Not Specified, Not Specified, Mortgage Loan, Not Specified, and Home Equity Loan'\n",
            " 'Debt Consolidation Loan, Credit-Builder Loan, Credit-Builder Loan, Personal Loan, and Not Specified'\n",
            " 'Debt Consolidation Loan, and Auto Loan'\n",
            " 'Not Specified, Student Loan, Auto Loan, Payday Loan, and Auto Loan'\n",
            " 'Home Equity Loan, Mortgage Loan, Credit-Builder Loan, and Debt Consolidation Loan'\n",
            " 'Home Equity Loan, Debt Consolidation Loan, Personal Loan, and Payday Loan'\n",
            " 'Not Specified, Payday Loan, Payday Loan, and Debt Consolidation Loan'\n",
            " 'Payday Loan, Not Specified, and Mortgage Loan'\n",
            " 'Mortgage Loan, Mortgage Loan, Not Specified, Personal Loan, Credit-Builder Loan, and Debt Consolidation Loan'\n",
            " 'Not Specified, Student Loan, Home Equity Loan, Personal Loan, and Personal Loan'\n",
            " 'Auto Loan, and Credit-Builder Loan'\n",
            " 'Credit-Builder Loan, Debt Consolidation Loan, Payday Loan, Personal Loan, Not Specified, and Payday Loan'\n",
            " 'Personal Loan, Home Equity Loan, and Debt Consolidation Loan'\n",
            " 'Personal Loan' 'Not Specified, Home Equity Loan, and Home Equity Loan'\n",
            " 'Student Loan, Home Equity Loan, Not Specified, and Credit-Builder Loan'\n",
            " 'Credit-Builder Loan, Auto Loan, Student Loan, Student Loan, Personal Loan, Personal Loan, and Auto Loan'\n",
            " 'Student Loan, and Not Specified'\n",
            " 'Not Specified, Not Specified, Not Specified, Mortgage Loan, Student Loan, and Auto Loan'\n",
            " 'Home Equity Loan, Auto Loan, and Home Equity Loan'\n",
            " 'Mortgage Loan, Payday Loan, Auto Loan, Not Specified, Credit-Builder Loan, and Home Equity Loan'\n",
            " 'Home Equity Loan, and Not Specified'\n",
            " 'Credit-Builder Loan, Auto Loan, Credit-Builder Loan, Student Loan, Personal Loan, Not Specified, and Mortgage Loan'\n",
            " 'Payday Loan'\n",
            " 'Debt Consolidation Loan, Home Equity Loan, and Student Loan'\n",
            " 'Credit-Builder Loan, Student Loan, Mortgage Loan, and Mortgage Loan'\n",
            " 'Auto Loan, Student Loan, and Student Loan'\n",
            " 'Personal Loan, Payday Loan, and Personal Loan'\n",
            " 'Debt Consolidation Loan, and Home Equity Loan'\n",
            " 'Not Specified, Student Loan, and Not Specified'\n",
            " 'Personal Loan, Payday Loan, Student Loan, Not Specified, and Not Specified'\n",
            " 'Student Loan, Credit-Builder Loan, Home Equity Loan, Personal Loan, Home Equity Loan, and Mortgage Loan'\n",
            " 'Home Equity Loan, Mortgage Loan, Credit-Builder Loan, Mortgage Loan, Student Loan, and Student Loan'\n",
            " 'Home Equity Loan, Debt Consolidation Loan, Auto Loan, Debt Consolidation Loan, Payday Loan, Student Loan, Personal Loan, Payday Loan, and Credit-Builder Loan'\n",
            " 'Mortgage Loan, and Personal Loan'\n",
            " 'Mortgage Loan, Credit-Builder Loan, Student Loan, Debt Consolidation Loan, Mortgage Loan, and Auto Loan'\n",
            " 'Mortgage Loan, and Student Loan'\n",
            " 'Debt Consolidation Loan, Home Equity Loan, and Not Specified'\n",
            " 'Student Loan, and Mortgage Loan'\n",
            " 'Credit-Builder Loan, Home Equity Loan, Personal Loan, Auto Loan, Personal Loan, Auto Loan, and Credit-Builder Loan'\n",
            " 'Home Equity Loan, Personal Loan, Credit-Builder Loan, and Credit-Builder Loan'\n",
            " 'Not Specified, Credit-Builder Loan, Not Specified, Credit-Builder Loan, Auto Loan, Payday Loan, Mortgage Loan, and Credit-Builder Loan'\n",
            " 'Home Equity Loan, Home Equity Loan, Payday Loan, and Mortgage Loan'\n",
            " 'Personal Loan, Personal Loan, Personal Loan, and Student Loan'\n",
            " 'Personal Loan, Home Equity Loan, Credit-Builder Loan, Not Specified, Home Equity Loan, Personal Loan, and Personal Loan'\n",
            " 'Home Equity Loan, Personal Loan, and Home Equity Loan'\n",
            " 'Payday Loan, and Credit-Builder Loan'\n",
            " 'Payday Loan, Personal Loan, Payday Loan, and Mortgage Loan'\n",
            " 'Credit-Builder Loan, and Personal Loan'\n",
            " 'Student Loan, Credit-Builder Loan, and Not Specified'\n",
            " 'Not Specified, Payday Loan, Home Equity Loan, Auto Loan, Home Equity Loan, Student Loan, Credit-Builder Loan, and Personal Loan'\n",
            " 'Payday Loan, Home Equity Loan, Not Specified, and Credit-Builder Loan'\n",
            " 'Debt Consolidation Loan, Mortgage Loan, Student Loan, Credit-Builder Loan, and Credit-Builder Loan'\n",
            " 'Personal Loan, Auto Loan, Personal Loan, Home Equity Loan, Home Equity Loan, Debt Consolidation Loan, and Credit-Builder Loan'\n",
            " 'Auto Loan, Payday Loan, Mortgage Loan, Student Loan, and Mortgage Loan'\n",
            " 'Student Loan, Home Equity Loan, and Mortgage Loan'\n",
            " 'Auto Loan, Credit-Builder Loan, Home Equity Loan, Personal Loan, and Mortgage Loan'\n",
            " 'Personal Loan, Student Loan, Student Loan, and Not Specified'\n",
            " 'Auto Loan, Personal Loan, and Payday Loan'\n",
            " 'Home Equity Loan, Debt Consolidation Loan, Payday Loan, and Credit-Builder Loan'\n",
            " 'Payday Loan, Auto Loan, Mortgage Loan, and Mortgage Loan'\n",
            " 'Debt Consolidation Loan, Debt Consolidation Loan, Home Equity Loan, Mortgage Loan, Student Loan, Payday Loan, Debt Consolidation Loan, and Home Equity Loan'\n",
            " 'Credit-Builder Loan, Not Specified, Debt Consolidation Loan, and Credit-Builder Loan'\n",
            " 'Mortgage Loan, and Home Equity Loan' 'Personal Loan, and Mortgage Loan'\n",
            " 'Credit-Builder Loan, Home Equity Loan, and Home Equity Loan'\n",
            " 'Credit-Builder Loan, Payday Loan, Home Equity Loan, and Credit-Builder Loan'\n",
            " 'Credit-Builder Loan, Auto Loan, Auto Loan, Credit-Builder Loan, Credit-Builder Loan, and Credit-Builder Loan'\n",
            " 'Home Equity Loan, Student Loan, and Debt Consolidation Loan'\n",
            " 'Mortgage Loan, Personal Loan, Home Equity Loan, Personal Loan, Auto Loan, and Payday Loan'\n",
            " 'Home Equity Loan, and Mortgage Loan'\n",
            " 'Personal Loan, Personal Loan, Mortgage Loan, Credit-Builder Loan, Debt Consolidation Loan, and Not Specified'\n",
            " 'Payday Loan, Payday Loan, Not Specified, Credit-Builder Loan, Student Loan, Payday Loan, and Personal Loan'\n",
            " 'Debt Consolidation Loan, and Debt Consolidation Loan'\n",
            " 'Personal Loan, Credit-Builder Loan, Not Specified, Payday Loan, Credit-Builder Loan, Debt Consolidation Loan, and Auto Loan'\n",
            " 'Student Loan, Personal Loan, Home Equity Loan, Not Specified, Home Equity Loan, and Credit-Builder Loan'\n",
            " 'Not Specified, Credit-Builder Loan, and Personal Loan'\n",
            " 'Payday Loan, Mortgage Loan, Payday Loan, Student Loan, and Not Specified'\n",
            " 'Student Loan, Personal Loan, Not Specified, Not Specified, Debt Consolidation Loan, Debt Consolidation Loan, and Auto Loan'\n",
            " 'Home Equity Loan, Mortgage Loan, Payday Loan, Personal Loan, Mortgage Loan, and Student Loan'\n",
            " 'Personal Loan, Personal Loan, and Debt Consolidation Loan'\n",
            " 'Not Specified, and Mortgage Loan'\n",
            " 'Payday Loan, Home Equity Loan, and Personal Loan'\n",
            " 'Student Loan, and Credit-Builder Loan' 'Student Loan, and Student Loan'\n",
            " 'Mortgage Loan, Payday Loan, Mortgage Loan, Student Loan, and Credit-Builder Loan'\n",
            " 'Personal Loan, Student Loan, Payday Loan, Student Loan, Student Loan, Debt Consolidation Loan, and Debt Consolidation Loan'\n",
            " 'Mortgage Loan, Personal Loan, Payday Loan, and Credit-Builder Loan'\n",
            " 'Not Specified, Mortgage Loan, and Auto Loan'\n",
            " 'Debt Consolidation Loan, Auto Loan, Payday Loan, and Payday Loan'\n",
            " 'Mortgage Loan, Home Equity Loan, and Auto Loan'\n",
            " 'Payday Loan, Payday Loan, Debt Consolidation Loan, Not Specified, Not Specified, Debt Consolidation Loan, Payday Loan, Credit-Builder Loan, and Auto Loan'\n",
            " 'Mortgage Loan, Student Loan, Payday Loan, Debt Consolidation Loan, and Auto Loan'\n",
            " 'Mortgage Loan, Student Loan, and Payday Loan'\n",
            " 'Home Equity Loan, Mortgage Loan, Payday Loan, and Home Equity Loan'\n",
            " 'Credit-Builder Loan, Personal Loan, and Mortgage Loan'\n",
            " 'Home Equity Loan, Payday Loan, Auto Loan, and Auto Loan'\n",
            " 'Debt Consolidation Loan, Student Loan, and Student Loan'\n",
            " 'Student Loan, Personal Loan, Auto Loan, Payday Loan, Credit-Builder Loan, Credit-Builder Loan, and Not Specified'\n",
            " 'Personal Loan, Mortgage Loan, Not Specified, and Payday Loan'\n",
            " 'Auto Loan, and Student Loan'\n",
            " 'Mortgage Loan, Payday Loan, Student Loan, Debt Consolidation Loan, Home Equity Loan, and Personal Loan'\n",
            " 'Auto Loan, and Personal Loan'\n",
            " 'Mortgage Loan, Student Loan, Debt Consolidation Loan, and Student Loan'\n",
            " 'Debt Consolidation Loan, Payday Loan, Credit-Builder Loan, and Student Loan'\n",
            " 'Home Equity Loan, Mortgage Loan, and Student Loan'\n",
            " 'Credit-Builder Loan, and Not Specified'\n",
            " 'Auto Loan, Credit-Builder Loan, Home Equity Loan, Not Specified, Student Loan, Payday Loan, Home Equity Loan, Auto Loan, and Student Loan'\n",
            " 'Payday Loan, Student Loan, Debt Consolidation Loan, Debt Consolidation Loan, Payday Loan, Student Loan, and Personal Loan'\n",
            " 'Student Loan, Debt Consolidation Loan, and Payday Loan'\n",
            " 'Home Equity Loan, Mortgage Loan, Mortgage Loan, Not Specified, and Student Loan'\n",
            " 'Auto Loan, Home Equity Loan, Auto Loan, Home Equity Loan, and Payday Loan'\n",
            " 'Not Specified, Payday Loan, Mortgage Loan, Not Specified, Payday Loan, Home Equity Loan, and Debt Consolidation Loan'\n",
            " 'Credit-Builder Loan, Mortgage Loan, and Auto Loan'\n",
            " 'Payday Loan, and Auto Loan'\n",
            " 'Credit-Builder Loan, Auto Loan, Home Equity Loan, Not Specified, Debt Consolidation Loan, and Student Loan'\n",
            " 'Personal Loan, Not Specified, Personal Loan, Personal Loan, Credit-Builder Loan, and Debt Consolidation Loan'\n",
            " 'Payday Loan, Home Equity Loan, Debt Consolidation Loan, and Student Loan'\n",
            " 'Not Specified, and Debt Consolidation Loan'\n",
            " 'Credit-Builder Loan, and Auto Loan'\n",
            " 'Personal Loan, Mortgage Loan, Not Specified, and Home Equity Loan'\n",
            " 'Mortgage Loan'\n",
            " 'Mortgage Loan, Not Specified, Credit-Builder Loan, Auto Loan, Payday Loan, Credit-Builder Loan, Home Equity Loan, Debt Consolidation Loan, and Mortgage Loan'\n",
            " 'Home Equity Loan, and Credit-Builder Loan'\n",
            " 'Personal Loan, Credit-Builder Loan, Student Loan, Student Loan, Credit-Builder Loan, Student Loan, and Home Equity Loan'\n",
            " 'Credit-Builder Loan, Not Specified, Personal Loan, Debt Consolidation Loan, Debt Consolidation Loan, Student Loan, Auto Loan, Student Loan, and Mortgage Loan'\n",
            " 'Student Loan, Home Equity Loan, Payday Loan, and Home Equity Loan'\n",
            " 'Mortgage Loan, Home Equity Loan, Home Equity Loan, and Mortgage Loan'\n",
            " 'Payday Loan, Auto Loan, Personal Loan, and Credit-Builder Loan'\n",
            " 'Mortgage Loan, Mortgage Loan, Mortgage Loan, and Credit-Builder Loan'\n",
            " 'Mortgage Loan, Student Loan, Auto Loan, Student Loan, Not Specified, Mortgage Loan, and Student Loan'\n",
            " 'Personal Loan, Payday Loan, Home Equity Loan, Payday Loan, Mortgage Loan, and Credit-Builder Loan'\n",
            " 'Auto Loan, Auto Loan, Student Loan, and Credit-Builder Loan'\n",
            " 'Credit-Builder Loan, Debt Consolidation Loan, Personal Loan, Payday Loan, Payday Loan, and Student Loan'\n",
            " 'Payday Loan, Debt Consolidation Loan, Not Specified, and Personal Loan'\n",
            " 'Auto Loan, Mortgage Loan, Credit-Builder Loan, and Home Equity Loan'\n",
            " 'Home Equity Loan, Not Specified, Home Equity Loan, Home Equity Loan, Debt Consolidation Loan, Debt Consolidation Loan, and Mortgage Loan'\n",
            " 'Mortgage Loan, Personal Loan, Mortgage Loan, Mortgage Loan, Payday Loan, Home Equity Loan, and Debt Consolidation Loan'\n",
            " 'Debt Consolidation Loan, Mortgage Loan, Student Loan, Auto Loan, and Payday Loan'\n",
            " 'Student Loan, Not Specified, Home Equity Loan, Not Specified, Personal Loan, and Personal Loan'\n",
            " 'Payday Loan, Credit-Builder Loan, Auto Loan, and Personal Loan'\n",
            " 'Home Equity Loan, Auto Loan, Personal Loan, Auto Loan, Mortgage Loan, Mortgage Loan, Personal Loan, and Home Equity Loan'\n",
            " 'Student Loan, Student Loan, Mortgage Loan, Payday Loan, Home Equity Loan, Mortgage Loan, Credit-Builder Loan, and Student Loan'\n",
            " 'Personal Loan, Personal Loan, Auto Loan, Debt Consolidation Loan, Mortgage Loan, Auto Loan, and Personal Loan'\n",
            " 'Home Equity Loan, Auto Loan, Personal Loan, Personal Loan, Mortgage Loan, Auto Loan, Debt Consolidation Loan, and Personal Loan'\n",
            " 'Student Loan, Credit-Builder Loan, and Credit-Builder Loan'\n",
            " 'Auto Loan, Credit-Builder Loan, Home Equity Loan, Debt Consolidation Loan, Mortgage Loan, Home Equity Loan, Auto Loan, and Not Specified'\n",
            " 'Personal Loan, Mortgage Loan, Student Loan, Personal Loan, Debt Consolidation Loan, Mortgage Loan, and Debt Consolidation Loan'\n",
            " 'Home Equity Loan, Student Loan, and Credit-Builder Loan'\n",
            " 'Auto Loan, Debt Consolidation Loan, Debt Consolidation Loan, Credit-Builder Loan, Credit-Builder Loan, and Home Equity Loan'\n",
            " 'Not Specified, Not Specified, Home Equity Loan, and Student Loan'\n",
            " 'Personal Loan, Credit-Builder Loan, Not Specified, and Debt Consolidation Loan'\n",
            " 'Debt Consolidation Loan, Payday Loan, Credit-Builder Loan, Auto Loan, Credit-Builder Loan, Home Equity Loan, Credit-Builder Loan, Payday Loan, and Mortgage Loan'\n",
            " 'Payday Loan, Debt Consolidation Loan, and Not Specified'\n",
            " 'Student Loan, Not Specified, Student Loan, Debt Consolidation Loan, Debt Consolidation Loan, Home Equity Loan, Payday Loan, Mortgage Loan, and Not Specified'\n",
            " 'Not Specified, and Not Specified'\n",
            " 'Payday Loan, Student Loan, Auto Loan, Mortgage Loan, Auto Loan, Payday Loan, Mortgage Loan, and Payday Loan'\n",
            " 'Not Specified, Payday Loan, Mortgage Loan, Credit-Builder Loan, Personal Loan, Payday Loan, Debt Consolidation Loan, and Payday Loan'\n",
            " 'Mortgage Loan, Student Loan, Credit-Builder Loan, Payday Loan, Credit-Builder Loan, Personal Loan, and Home Equity Loan'\n",
            " 'Payday Loan, Home Equity Loan, Mortgage Loan, Debt Consolidation Loan, and Personal Loan'\n",
            " 'Student Loan, and Home Equity Loan'\n",
            " 'Mortgage Loan, Debt Consolidation Loan, Debt Consolidation Loan, Credit-Builder Loan, and Not Specified'\n",
            " 'Credit-Builder Loan, Personal Loan, and Home Equity Loan'\n",
            " 'Credit-Builder Loan, and Credit-Builder Loan'\n",
            " 'Student Loan, Auto Loan, and Payday Loan'\n",
            " 'Mortgage Loan, Payday Loan, Payday Loan, Mortgage Loan, Home Equity Loan, Personal Loan, Not Specified, Credit-Builder Loan, and Student Loan'\n",
            " 'Not Specified, Payday Loan, Not Specified, Home Equity Loan, and Auto Loan'\n",
            " 'Not Specified, Auto Loan, Home Equity Loan, Payday Loan, Mortgage Loan, Student Loan, Student Loan, Auto Loan, and Auto Loan'\n",
            " 'Mortgage Loan, Not Specified, Not Specified, Payday Loan, Not Specified, and Student Loan'\n",
            " 'Student Loan, Home Equity Loan, Personal Loan, Personal Loan, Debt Consolidation Loan, and Debt Consolidation Loan'\n",
            " 'Credit-Builder Loan, Student Loan, Credit-Builder Loan, and Home Equity Loan'\n",
            " 'Mortgage Loan, Student Loan, Mortgage Loan, and Payday Loan'\n",
            " 'Student Loan, Personal Loan, and Debt Consolidation Loan'\n",
            " 'Personal Loan, Credit-Builder Loan, Mortgage Loan, Credit-Builder Loan, Personal Loan, and Home Equity Loan'\n",
            " 'Payday Loan, Auto Loan, Mortgage Loan, Auto Loan, Debt Consolidation Loan, Not Specified, Not Specified, Student Loan, and Student Loan'\n",
            " 'Personal Loan, Payday Loan, Student Loan, and Student Loan'\n",
            " 'Auto Loan, Payday Loan, Credit-Builder Loan, Debt Consolidation Loan, Credit-Builder Loan, and Auto Loan'\n",
            " 'Not Specified, and Auto Loan'\n",
            " 'Home Equity Loan, Mortgage Loan, and Mortgage Loan'\n",
            " 'Home Equity Loan, and Personal Loan'\n",
            " 'Credit-Builder Loan, and Payday Loan'\n",
            " 'Credit-Builder Loan, Debt Consolidation Loan, Credit-Builder Loan, and Personal Loan'\n",
            " 'Not Specified, Home Equity Loan, Auto Loan, and Payday Loan'\n",
            " 'Mortgage Loan, Credit-Builder Loan, Home Equity Loan, Student Loan, and Auto Loan'\n",
            " 'Not Specified, Payday Loan, Auto Loan, and Payday Loan'\n",
            " 'Personal Loan, Auto Loan, Debt Consolidation Loan, and Payday Loan'\n",
            " 'Debt Consolidation Loan, Home Equity Loan, and Mortgage Loan'\n",
            " 'Home Equity Loan, Mortgage Loan, Mortgage Loan, Not Specified, Not Specified, and Mortgage Loan'\n",
            " 'Credit-Builder Loan, Student Loan, Auto Loan, and Personal Loan'\n",
            " 'Not Specified, Personal Loan, Credit-Builder Loan, Home Equity Loan, Student Loan, Not Specified, Credit-Builder Loan, Personal Loan, and Personal Loan'\n",
            " 'Debt Consolidation Loan, Mortgage Loan, Not Specified, and Not Specified'\n",
            " 'Credit-Builder Loan, Home Equity Loan, Personal Loan, Student Loan, Credit-Builder Loan, Personal Loan, Student Loan, Auto Loan, and Debt Consolidation Loan'\n",
            " 'Personal Loan, Student Loan, Debt Consolidation Loan, and Not Specified'\n",
            " 'Not Specified, Personal Loan, and Payday Loan'\n",
            " 'Not Specified, Debt Consolidation Loan, Payday Loan, Credit-Builder Loan, Not Specified, Home Equity Loan, Personal Loan, and Debt Consolidation Loan'\n",
            " 'Credit-Builder Loan, Credit-Builder Loan, and Auto Loan'\n",
            " 'Personal Loan, and Home Equity Loan'\n",
            " 'Credit-Builder Loan, Auto Loan, Debt Consolidation Loan, Auto Loan, Personal Loan, and Mortgage Loan'\n",
            " 'Credit-Builder Loan, Student Loan, Debt Consolidation Loan, Credit-Builder Loan, Student Loan, Not Specified, Personal Loan, Payday Loan, and Home Equity Loan'\n",
            " 'Student Loan, Personal Loan, Not Specified, Payday Loan, Debt Consolidation Loan, and Debt Consolidation Loan'\n",
            " 'Credit-Builder Loan, Student Loan, Not Specified, Personal Loan, Payday Loan, and Payday Loan'\n",
            " 'Personal Loan, Payday Loan, Payday Loan, Payday Loan, Payday Loan, Credit-Builder Loan, Mortgage Loan, and Personal Loan'\n",
            " 'Payday Loan, Debt Consolidation Loan, Credit-Builder Loan, Home Equity Loan, Credit-Builder Loan, and Payday Loan'\n",
            " 'Student Loan, Personal Loan, and Auto Loan'\n",
            " 'Auto Loan, Student Loan, and Not Specified'\n",
            " 'Personal Loan, Student Loan, Personal Loan, Student Loan, Home Equity Loan, Not Specified, Home Equity Loan, and Personal Loan'\n",
            " 'Payday Loan, Credit-Builder Loan, Student Loan, and Debt Consolidation Loan'\n",
            " 'Auto Loan, and Debt Consolidation Loan'\n",
            " 'Student Loan, Personal Loan, Home Equity Loan, Student Loan, Debt Consolidation Loan, Auto Loan, Student Loan, and Debt Consolidation Loan'\n",
            " 'Auto Loan, Payday Loan, Student Loan, Mortgage Loan, Payday Loan, Home Equity Loan, and Home Equity Loan'\n",
            " 'Credit-Builder Loan, and Debt Consolidation Loan'\n",
            " 'Debt Consolidation Loan, Auto Loan, Payday Loan, and Debt Consolidation Loan'\n",
            " 'Mortgage Loan, Home Equity Loan, Auto Loan, Not Specified, Personal Loan, Mortgage Loan, and Debt Consolidation Loan'\n",
            " 'Personal Loan, and Personal Loan'\n",
            " 'Personal Loan, Student Loan, Debt Consolidation Loan, Mortgage Loan, and Payday Loan'\n",
            " 'Payday Loan, Credit-Builder Loan, and Student Loan'\n",
            " 'Personal Loan, Not Specified, and Credit-Builder Loan'\n",
            " 'Student Loan, Student Loan, Payday Loan, Student Loan, Home Equity Loan, Debt Consolidation Loan, Home Equity Loan, Credit-Builder Loan, and Mortgage Loan'\n",
            " 'Not Specified, and Credit-Builder Loan'\n",
            " 'Mortgage Loan, Personal Loan, and Credit-Builder Loan'\n",
            " 'Credit-Builder Loan, and Student Loan'\n",
            " 'Mortgage Loan, and Debt Consolidation Loan'\n",
            " 'Credit-Builder Loan, Personal Loan, Student Loan, and Mortgage Loan'\n",
            " 'Debt Consolidation Loan, Credit-Builder Loan, and Mortgage Loan'\n",
            " 'Debt Consolidation Loan, Payday Loan, Payday Loan, and Personal Loan'\n",
            " 'Personal Loan, Home Equity Loan, Mortgage Loan, Payday Loan, Mortgage Loan, and Credit-Builder Loan'\n",
            " 'Debt Consolidation Loan, Student Loan, Student Loan, and Home Equity Loan'\n",
            " 'Personal Loan, Auto Loan, and Debt Consolidation Loan'\n",
            " 'Credit-Builder Loan, Mortgage Loan, Home Equity Loan, Payday Loan, and Not Specified'\n",
            " 'Personal Loan, Student Loan, Payday Loan, and Student Loan'\n",
            " 'Credit-Builder Loan, Home Equity Loan, and Payday Loan'\n",
            " 'Student Loan, Payday Loan, Credit-Builder Loan, Home Equity Loan, Personal Loan, Credit-Builder Loan, and Student Loan'\n",
            " 'Debt Consolidation Loan, Home Equity Loan, Auto Loan, Payday Loan, Debt Consolidation Loan, Mortgage Loan, Personal Loan, and Payday Loan'\n",
            " 'Not Specified, Credit-Builder Loan, Student Loan, Credit-Builder Loan, Debt Consolidation Loan, Debt Consolidation Loan, and Not Specified'\n",
            " 'Personal Loan, Not Specified, Personal Loan, Auto Loan, Personal Loan, Payday Loan, Auto Loan, Home Equity Loan, and Mortgage Loan'\n",
            " 'Payday Loan, Payday Loan, and Auto Loan'\n",
            " 'Student Loan, Mortgage Loan, Auto Loan, Auto Loan, Not Specified, Credit-Builder Loan, Personal Loan, Home Equity Loan, and Home Equity Loan'\n",
            " 'Not Specified, Mortgage Loan, and Credit-Builder Loan'\n",
            " 'Student Loan, Not Specified, and Student Loan'\n",
            " 'Personal Loan, Credit-Builder Loan, Mortgage Loan, Payday Loan, Student Loan, Mortgage Loan, Home Equity Loan, Auto Loan, and Credit-Builder Loan'\n",
            " 'Not Specified, Credit-Builder Loan, Home Equity Loan, Not Specified, Credit-Builder Loan, Payday Loan, and Not Specified'\n",
            " 'Credit-Builder Loan, Mortgage Loan, Auto Loan, Not Specified, and Not Specified'\n",
            " 'Payday Loan, Not Specified, Not Specified, Not Specified, and Student Loan'\n",
            " 'Auto Loan, Auto Loan, Debt Consolidation Loan, Home Equity Loan, Payday Loan, Credit-Builder Loan, and Credit-Builder Loan'\n",
            " 'Mortgage Loan, Debt Consolidation Loan, Mortgage Loan, Mortgage Loan, Not Specified, and Mortgage Loan'\n",
            " 'Mortgage Loan, Credit-Builder Loan, Not Specified, Student Loan, and Auto Loan'\n",
            " 'Mortgage Loan, Student Loan, Payday Loan, Student Loan, and Debt Consolidation Loan'\n",
            " 'Payday Loan, Student Loan, and Debt Consolidation Loan'\n",
            " 'Home Equity Loan, and Payday Loan'\n",
            " 'Home Equity Loan, Auto Loan, Debt Consolidation Loan, Personal Loan, Personal Loan, Auto Loan, Auto Loan, and Home Equity Loan'\n",
            " 'Personal Loan, and Auto Loan'\n",
            " 'Payday Loan, Payday Loan, Student Loan, Not Specified, Auto Loan, and Payday Loan'\n",
            " 'Student Loan, Payday Loan, Student Loan, Mortgage Loan, and Mortgage Loan'\n",
            " 'Home Equity Loan, Personal Loan, Student Loan, and Home Equity Loan'\n",
            " 'Payday Loan, Mortgage Loan, Auto Loan, Home Equity Loan, Payday Loan, Credit-Builder Loan, Auto Loan, Credit-Builder Loan, and Mortgage Loan'\n",
            " 'Payday Loan, and Personal Loan'\n",
            " 'Home Equity Loan, Debt Consolidation Loan, Credit-Builder Loan, and Auto Loan'\n",
            " 'Student Loan, and Debt Consolidation Loan'\n",
            " 'Home Equity Loan, Payday Loan, Home Equity Loan, Mortgage Loan, and Auto Loan'\n",
            " 'Auto Loan, Debt Consolidation Loan, Auto Loan, Personal Loan, Credit-Builder Loan, and Home Equity Loan'\n",
            " 'Home Equity Loan, Not Specified, Personal Loan, and Payday Loan'\n",
            " 'Credit-Builder Loan, Auto Loan, Home Equity Loan, and Debt Consolidation Loan'\n",
            " 'Student Loan, Auto Loan, Payday Loan, and Student Loan'\n",
            " 'Debt Consolidation Loan, Student Loan, and Mortgage Loan'\n",
            " 'Debt Consolidation Loan, Auto Loan, Credit-Builder Loan, Personal Loan, Auto Loan, and Debt Consolidation Loan'\n",
            " 'Debt Consolidation Loan, Home Equity Loan, Credit-Builder Loan, and Personal Loan'\n",
            " 'Credit-Builder Loan, Home Equity Loan, and Auto Loan'\n",
            " 'Personal Loan, Mortgage Loan, and Home Equity Loan'\n",
            " 'Auto Loan, Credit-Builder Loan, and Auto Loan'\n",
            " 'Home Equity Loan, Credit-Builder Loan, Payday Loan, Student Loan, Personal Loan, Credit-Builder Loan, and Auto Loan'\n",
            " 'Payday Loan, Student Loan, and Payday Loan'\n",
            " 'Home Equity Loan, Payday Loan, and Personal Loan'\n",
            " 'Auto Loan, Auto Loan, Payday Loan, Student Loan, Payday Loan, and Not Specified'\n",
            " 'Personal Loan, and Debt Consolidation Loan'\n",
            " 'Payday Loan, Personal Loan, Personal Loan, Student Loan, Not Specified, and Student Loan'\n",
            " 'Auto Loan, Payday Loan, Personal Loan, Credit-Builder Loan, Student Loan, Payday Loan, Credit-Builder Loan, Not Specified, and Personal Loan'\n",
            " 'Student Loan, and Personal Loan'\n",
            " 'Personal Loan, Debt Consolidation Loan, Home Equity Loan, Personal Loan, Mortgage Loan, and Debt Consolidation Loan'\n",
            " 'Auto Loan, Payday Loan, Student Loan, Debt Consolidation Loan, Personal Loan, and Student Loan'\n",
            " 'Credit-Builder Loan, Student Loan, and Auto Loan'\n",
            " 'Personal Loan, Student Loan, and Not Specified'\n",
            " 'Payday Loan, Credit-Builder Loan, Not Specified, and Student Loan'\n",
            " 'Credit-Builder Loan, Payday Loan, Payday Loan, Credit-Builder Loan, Student Loan, and Payday Loan'\n",
            " 'Credit-Builder Loan, Student Loan, Auto Loan, and Home Equity Loan'\n",
            " 'Payday Loan, Credit-Builder Loan, Payday Loan, Auto Loan, Student Loan, and Home Equity Loan'\n",
            " 'Payday Loan, Debt Consolidation Loan, Personal Loan, Payday Loan, Auto Loan, and Debt Consolidation Loan'\n",
            " 'Student Loan, Home Equity Loan, Personal Loan, and Credit-Builder Loan'\n",
            " 'Personal Loan, Mortgage Loan, Mortgage Loan, and Auto Loan'\n",
            " 'Not Specified, Personal Loan, Credit-Builder Loan, Payday Loan, Credit-Builder Loan, and Mortgage Loan'\n",
            " 'Not Specified, Personal Loan, Auto Loan, Not Specified, and Debt Consolidation Loan'\n",
            " 'Personal Loan, Debt Consolidation Loan, and Mortgage Loan'\n",
            " 'Auto Loan, Mortgage Loan, Personal Loan, and Student Loan'\n",
            " 'Personal Loan, Not Specified, Credit-Builder Loan, Auto Loan, and Not Specified'\n",
            " 'Credit-Builder Loan, Personal Loan, Not Specified, Not Specified, Personal Loan, Credit-Builder Loan, and Mortgage Loan'\n",
            " 'Payday Loan, Mortgage Loan, Not Specified, Personal Loan, Not Specified, and Home Equity Loan'\n",
            " 'Payday Loan, Home Equity Loan, Payday Loan, Payday Loan, Payday Loan, Mortgage Loan, and Payday Loan'\n",
            " 'Mortgage Loan, Student Loan, Payday Loan, and Student Loan'\n",
            " 'Auto Loan, Credit-Builder Loan, Student Loan, Auto Loan, Not Specified, Home Equity Loan, Debt Consolidation Loan, and Debt Consolidation Loan'\n",
            " 'Debt Consolidation Loan, and Credit-Builder Loan'\n",
            " 'Auto Loan, Student Loan, and Payday Loan'\n",
            " 'Mortgage Loan, Not Specified, Student Loan, and Not Specified'\n",
            " 'Personal Loan, Debt Consolidation Loan, Home Equity Loan, Credit-Builder Loan, Auto Loan, and Payday Loan'\n",
            " 'Payday Loan, Mortgage Loan, and Student Loan'\n",
            " 'Mortgage Loan, Mortgage Loan, Mortgage Loan, and Payday Loan'\n",
            " 'Credit-Builder Loan, Debt Consolidation Loan, and Payday Loan'\n",
            " 'Not Specified, Personal Loan, Home Equity Loan, Home Equity Loan, Debt Consolidation Loan, and Credit-Builder Loan'\n",
            " 'Debt Consolidation Loan, and Payday Loan'\n",
            " 'Home Equity Loan, Home Equity Loan, and Home Equity Loan'\n",
            " 'Auto Loan, Auto Loan, Home Equity Loan, Home Equity Loan, Personal Loan, Payday Loan, and Personal Loan'\n",
            " 'Credit-Builder Loan, Mortgage Loan, and Credit-Builder Loan'\n",
            " 'Credit-Builder Loan, Credit-Builder Loan, Auto Loan, and Auto Loan'\n",
            " 'Auto Loan, Payday Loan, Not Specified, Auto Loan, Home Equity Loan, and Payday Loan'\n",
            " 'Student Loan, Personal Loan, Auto Loan, and Auto Loan'\n",
            " 'Debt Consolidation Loan, Debt Consolidation Loan, and Payday Loan'\n",
            " 'Mortgage Loan, Mortgage Loan, Credit-Builder Loan, Debt Consolidation Loan, Auto Loan, Student Loan, Payday Loan, Mortgage Loan, and Home Equity Loan'\n",
            " 'Student Loan, Credit-Builder Loan, Mortgage Loan, and Student Loan'\n",
            " 'Student Loan, Auto Loan, Credit-Builder Loan, Credit-Builder Loan, Personal Loan, Payday Loan, and Payday Loan'\n",
            " 'Auto Loan, and Not Specified'\n",
            " 'Not Specified, Personal Loan, Not Specified, Credit-Builder Loan, Debt Consolidation Loan, Mortgage Loan, and Mortgage Loan'\n",
            " 'Home Equity Loan, Not Specified, Credit-Builder Loan, Auto Loan, Payday Loan, and Mortgage Loan'\n",
            " 'Personal Loan, and Not Specified'\n",
            " 'Student Loan, Debt Consolidation Loan, Debt Consolidation Loan, and Student Loan'\n",
            " 'Auto Loan, Personal Loan, Personal Loan, Credit-Builder Loan, Credit-Builder Loan, Home Equity Loan, and Auto Loan'\n",
            " 'Credit-Builder Loan, Credit-Builder Loan, and Personal Loan'\n",
            " 'Mortgage Loan, Personal Loan, and Mortgage Loan'\n",
            " 'Student Loan, Mortgage Loan, Mortgage Loan, Payday Loan, Home Equity Loan, Not Specified, and Debt Consolidation Loan'\n",
            " 'Credit-Builder Loan, Debt Consolidation Loan, and Credit-Builder Loan'\n",
            " 'Personal Loan, Home Equity Loan, Mortgage Loan, and Personal Loan'\n",
            " 'Auto Loan, Auto Loan, Auto Loan, and Not Specified'\n",
            " 'Mortgage Loan, Student Loan, Payday Loan, Home Equity Loan, Credit-Builder Loan, Personal Loan, Student Loan, and Personal Loan'\n",
            " 'Credit-Builder Loan, Personal Loan, Credit-Builder Loan, Not Specified, Auto Loan, and Student Loan'\n",
            " 'Auto Loan, Credit-Builder Loan, Auto Loan, and Not Specified'\n",
            " 'Credit-Builder Loan, Mortgage Loan, Payday Loan, and Payday Loan'\n",
            " 'Auto Loan, Student Loan, and Home Equity Loan'\n",
            " 'Credit-Builder Loan, Home Equity Loan, Auto Loan, Debt Consolidation Loan, Student Loan, and Student Loan'\n",
            " 'Mortgage Loan, Auto Loan, Debt Consolidation Loan, Debt Consolidation Loan, Mortgage Loan, and Auto Loan'\n",
            " 'Payday Loan, Mortgage Loan, and Auto Loan'\n",
            " 'Student Loan, Payday Loan, Not Specified, Mortgage Loan, Home Equity Loan, Payday Loan, Payday Loan, Not Specified, and Credit-Builder Loan'\n",
            " 'Mortgage Loan, Home Equity Loan, and Payday Loan'\n",
            " 'Payday Loan, Auto Loan, Credit-Builder Loan, Home Equity Loan, and Home Equity Loan'\n",
            " 'Student Loan, Student Loan, Home Equity Loan, Student Loan, and Payday Loan'\n",
            " 'Home Equity Loan, Debt Consolidation Loan, Debt Consolidation Loan, Payday Loan, Payday Loan, and Home Equity Loan'\n",
            " 'Mortgage Loan, Credit-Builder Loan, and Debt Consolidation Loan'\n",
            " 'Personal Loan, Student Loan, Debt Consolidation Loan, Credit-Builder Loan, Mortgage Loan, Not Specified, and Debt Consolidation Loan'\n",
            " 'Debt Consolidation Loan, Debt Consolidation Loan, Debt Consolidation Loan, Auto Loan, Credit-Builder Loan, Mortgage Loan, Student Loan, and Not Specified'\n",
            " 'Debt Consolidation Loan, Debt Consolidation Loan, Personal Loan, and Credit-Builder Loan'\n",
            " 'Auto Loan, Payday Loan, and Personal Loan'\n",
            " 'Not Specified, Payday Loan, Personal Loan, and Student Loan'\n",
            " 'Payday Loan, Student Loan, Home Equity Loan, and Mortgage Loan'\n",
            " 'Payday Loan, Payday Loan, and Debt Consolidation Loan'\n",
            " 'Not Specified, Mortgage Loan, Credit-Builder Loan, and Student Loan'\n",
            " 'Student Loan, Debt Consolidation Loan, Payday Loan, and Auto Loan'\n",
            " 'Mortgage Loan, Personal Loan, Payday Loan, Not Specified, Student Loan, and Payday Loan'\n",
            " 'Student Loan, Debt Consolidation Loan, Not Specified, Debt Consolidation Loan, Home Equity Loan, and Home Equity Loan'\n",
            " 'Payday Loan, Payday Loan, Payday Loan, Student Loan, and Personal Loan'\n",
            " 'Debt Consolidation Loan, Personal Loan, Not Specified, and Debt Consolidation Loan'\n",
            " 'Auto Loan, Personal Loan, Personal Loan, Credit-Builder Loan, Mortgage Loan, Payday Loan, and Personal Loan'\n",
            " 'Personal Loan, Mortgage Loan, and Auto Loan'\n",
            " 'Payday Loan, Home Equity Loan, and Credit-Builder Loan'\n",
            " 'Debt Consolidation Loan, Credit-Builder Loan, Auto Loan, Credit-Builder Loan, Not Specified, and Mortgage Loan'\n",
            " 'Mortgage Loan, Student Loan, Personal Loan, Credit-Builder Loan, Debt Consolidation Loan, and Credit-Builder Loan'\n",
            " 'Personal Loan, Auto Loan, and Not Specified'\n",
            " 'Mortgage Loan, Student Loan, Auto Loan, Debt Consolidation Loan, and Debt Consolidation Loan'\n",
            " 'Auto Loan, Not Specified, Home Equity Loan, Personal Loan, Student Loan, Auto Loan, Credit-Builder Loan, and Not Specified'\n",
            " 'Not Specified, Payday Loan, and Auto Loan'\n",
            " 'Auto Loan, Not Specified, Credit-Builder Loan, and Mortgage Loan'\n",
            " 'Home Equity Loan, Home Equity Loan, Student Loan, Not Specified, Home Equity Loan, Credit-Builder Loan, and Debt Consolidation Loan'\n",
            " 'Personal Loan, Payday Loan, Not Specified, and Payday Loan'\n",
            " 'Personal Loan, Personal Loan, and Mortgage Loan'\n",
            " 'Home Equity Loan, Credit-Builder Loan, Credit-Builder Loan, Payday Loan, and Debt Consolidation Loan'\n",
            " 'Mortgage Loan, Debt Consolidation Loan, Student Loan, Home Equity Loan, and Home Equity Loan'\n",
            " 'Not Specified, Debt Consolidation Loan, Not Specified, and Payday Loan'\n",
            " 'Payday Loan, Payday Loan, Home Equity Loan, Home Equity Loan, Home Equity Loan, and Credit-Builder Loan'\n",
            " 'Debt Consolidation Loan, Payday Loan, and Mortgage Loan'\n",
            " 'Home Equity Loan, and Home Equity Loan'\n",
            " 'Debt Consolidation Loan, Debt Consolidation Loan, Credit-Builder Loan, Mortgage Loan, and Auto Loan'\n",
            " 'Auto Loan, Not Specified, Home Equity Loan, Credit-Builder Loan, Credit-Builder Loan, Debt Consolidation Loan, Payday Loan, Auto Loan, and Personal Loan'\n",
            " 'Auto Loan, Not Specified, Not Specified, Credit-Builder Loan, Student Loan, and Not Specified'\n",
            " 'Debt Consolidation Loan, Auto Loan, Debt Consolidation Loan, Payday Loan, Home Equity Loan, Not Specified, Mortgage Loan, Payday Loan, and Credit-Builder Loan'\n",
            " 'Home Equity Loan, Home Equity Loan, Debt Consolidation Loan, Debt Consolidation Loan, and Personal Loan'\n",
            " 'Student Loan, Student Loan, and Home Equity Loan'\n",
            " 'Personal Loan, and Credit-Builder Loan'\n",
            " 'Auto Loan, Home Equity Loan, Student Loan, Student Loan, Personal Loan, and Student Loan'\n",
            " 'Auto Loan, Debt Consolidation Loan, Mortgage Loan, and Payday Loan'\n",
            " 'Debt Consolidation Loan, Credit-Builder Loan, and Personal Loan'\n",
            " 'Home Equity Loan, Not Specified, Mortgage Loan, Personal Loan, Auto Loan, Not Specified, and Student Loan'\n",
            " 'Student Loan, Mortgage Loan, Auto Loan, Auto Loan, Auto Loan, Personal Loan, and Payday Loan'\n",
            " 'Home Equity Loan, Mortgage Loan, Auto Loan, Payday Loan, Debt Consolidation Loan, and Credit-Builder Loan'\n",
            " 'Personal Loan, Student Loan, Mortgage Loan, and Home Equity Loan'\n",
            " 'Auto Loan, Mortgage Loan, Debt Consolidation Loan, and Student Loan'\n",
            " 'Mortgage Loan, Payday Loan, and Credit-Builder Loan'\n",
            " 'Not Specified, Not Specified, Not Specified, Payday Loan, Auto Loan, Payday Loan, and Student Loan'\n",
            " 'Debt Consolidation Loan, Debt Consolidation Loan, and Auto Loan'\n",
            " 'Not Specified, Not Specified, Mortgage Loan, and Mortgage Loan'\n",
            " 'Payday Loan, Credit-Builder Loan, Personal Loan, Auto Loan, Personal Loan, and Debt Consolidation Loan'\n",
            " 'Personal Loan, Mortgage Loan, Student Loan, Debt Consolidation Loan, Mortgage Loan, Home Equity Loan, and Not Specified'\n",
            " 'Student Loan, Home Equity Loan, Debt Consolidation Loan, Mortgage Loan, Auto Loan, and Credit-Builder Loan'\n",
            " 'Personal Loan, Not Specified, Not Specified, Personal Loan, Credit-Builder Loan, Personal Loan, and Mortgage Loan'\n",
            " 'Debt Consolidation Loan, Home Equity Loan, Home Equity Loan, and Debt Consolidation Loan'\n",
            " 'Mortgage Loan, Not Specified, Mortgage Loan, and Payday Loan'\n",
            " 'Debt Consolidation Loan, Not Specified, Auto Loan, and Payday Loan'\n",
            " 'Home Equity Loan, Debt Consolidation Loan, Not Specified, and Home Equity Loan'\n",
            " 'Debt Consolidation Loan, Mortgage Loan, Credit-Builder Loan, and Personal Loan'\n",
            " 'Student Loan, Personal Loan, Not Specified, and Auto Loan'\n",
            " 'Home Equity Loan, Credit-Builder Loan, and Debt Consolidation Loan'\n",
            " 'Personal Loan, Not Specified, Personal Loan, Mortgage Loan, Credit-Builder Loan, and Debt Consolidation Loan'\n",
            " 'Auto Loan, Auto Loan, Payday Loan, Not Specified, Auto Loan, and Debt Consolidation Loan'\n",
            " 'Home Equity Loan, Debt Consolidation Loan, Home Equity Loan, Credit-Builder Loan, Student Loan, and Credit-Builder Loan'\n",
            " 'Personal Loan, Personal Loan, Home Equity Loan, Not Specified, Personal Loan, and Not Specified'\n",
            " 'Credit-Builder Loan, Home Equity Loan, Student Loan, Payday Loan, Credit-Builder Loan, Home Equity Loan, Credit-Builder Loan, Payday Loan, and Student Loan'\n",
            " 'Home Equity Loan, Not Specified, Not Specified, Payday Loan, and Credit-Builder Loan'\n",
            " 'Home Equity Loan, Student Loan, Personal Loan, and Student Loan'\n",
            " 'Auto Loan, Personal Loan, Auto Loan, and Auto Loan'\n",
            " 'Not Specified, Home Equity Loan, Student Loan, Payday Loan, Debt Consolidation Loan, Credit-Builder Loan, Auto Loan, Credit-Builder Loan, and Personal Loan'\n",
            " 'Credit-Builder Loan, Payday Loan, Student Loan, Debt Consolidation Loan, and Auto Loan'\n",
            " 'Student Loan, Student Loan, Credit-Builder Loan, Student Loan, Not Specified, Payday Loan, Home Equity Loan, and Student Loan'\n",
            " 'Credit-Builder Loan, Mortgage Loan, Not Specified, Debt Consolidation Loan, Auto Loan, and Mortgage Loan'\n",
            " 'Personal Loan, Credit-Builder Loan, Not Specified, Mortgage Loan, and Debt Consolidation Loan'\n",
            " 'Debt Consolidation Loan, and Mortgage Loan'\n",
            " 'Debt Consolidation Loan, Credit-Builder Loan, Personal Loan, Auto Loan, Payday Loan, Personal Loan, Auto Loan, and Not Specified'\n",
            " 'Personal Loan, Personal Loan, Student Loan, Debt Consolidation Loan, Not Specified, and Home Equity Loan'\n",
            " 'Auto Loan, Credit-Builder Loan, Student Loan, Personal Loan, Mortgage Loan, Mortgage Loan, and Debt Consolidation Loan'\n",
            " 'Auto Loan, Not Specified, and Debt Consolidation Loan'\n",
            " 'Student Loan, and Payday Loan'\n",
            " 'Auto Loan, Home Equity Loan, Student Loan, Credit-Builder Loan, Personal Loan, and Debt Consolidation Loan'\n",
            " 'Credit-Builder Loan, Student Loan, Home Equity Loan, and Payday Loan'\n",
            " 'Debt Consolidation Loan, Auto Loan, Mortgage Loan, and Mortgage Loan'\n",
            " 'Mortgage Loan, Payday Loan, and Debt Consolidation Loan'\n",
            " 'Payday Loan, Auto Loan, Debt Consolidation Loan, and Mortgage Loan'\n",
            " 'Debt Consolidation Loan, Personal Loan, Credit-Builder Loan, Payday Loan, and Home Equity Loan'\n",
            " 'Payday Loan, Payday Loan, Auto Loan, Not Specified, Personal Loan, Not Specified, and Personal Loan'\n",
            " 'Credit-Builder Loan, Debt Consolidation Loan, Debt Consolidation Loan, Debt Consolidation Loan, Debt Consolidation Loan, Credit-Builder Loan, and Home Equity Loan'\n",
            " 'Personal Loan, Payday Loan, Debt Consolidation Loan, and Mortgage Loan'\n",
            " 'Payday Loan, Payday Loan, and Not Specified'\n",
            " 'Home Equity Loan, Mortgage Loan, Personal Loan, Student Loan, Mortgage Loan, Debt Consolidation Loan, Debt Consolidation Loan, Student Loan, and Not Specified'\n",
            " 'Payday Loan, Payday Loan, Student Loan, and Auto Loan'\n",
            " 'Home Equity Loan, Payday Loan, Not Specified, Debt Consolidation Loan, Home Equity Loan, and Mortgage Loan'\n",
            " 'Not Specified, Home Equity Loan, and Auto Loan'\n",
            " 'Student Loan, Payday Loan, Student Loan, and Not Specified'\n",
            " 'Credit-Builder Loan, Payday Loan, and Credit-Builder Loan'\n",
            " 'Mortgage Loan, Not Specified, Not Specified, and Mortgage Loan'\n",
            " 'Auto Loan, Auto Loan, Mortgage Loan, Not Specified, Payday Loan, Personal Loan, and Payday Loan'\n",
            " 'Mortgage Loan, Debt Consolidation Loan, Payday Loan, Home Equity Loan, Home Equity Loan, and Credit-Builder Loan'\n",
            " 'Mortgage Loan, Not Specified, Personal Loan, Mortgage Loan, Auto Loan, Not Specified, Not Specified, Payday Loan, and Auto Loan'\n",
            " 'Mortgage Loan, Not Specified, Not Specified, and Payday Loan'\n",
            " 'Home Equity Loan, Not Specified, Debt Consolidation Loan, Debt Consolidation Loan, Mortgage Loan, Personal Loan, and Personal Loan'\n",
            " 'Auto Loan, Home Equity Loan, Not Specified, and Auto Loan'\n",
            " 'Student Loan, Auto Loan, Payday Loan, and Mortgage Loan'\n",
            " 'Home Equity Loan, Payday Loan, Debt Consolidation Loan, Home Equity Loan, Home Equity Loan, and Home Equity Loan'\n",
            " 'Personal Loan, Student Loan, Personal Loan, and Debt Consolidation Loan'\n",
            " 'Credit-Builder Loan, Auto Loan, Auto Loan, and Mortgage Loan'\n",
            " 'Mortgage Loan, Payday Loan, Payday Loan, Home Equity Loan, Auto Loan, Personal Loan, and Auto Loan'\n",
            " 'Student Loan, Credit-Builder Loan, Personal Loan, Debt Consolidation Loan, and Debt Consolidation Loan'\n",
            " 'Personal Loan, Payday Loan, Home Equity Loan, Not Specified, Auto Loan, Not Specified, Student Loan, Debt Consolidation Loan, and Credit-Builder Loan'\n",
            " 'Payday Loan, Home Equity Loan, Not Specified, Mortgage Loan, Personal Loan, and Home Equity Loan'\n",
            " 'Debt Consolidation Loan, Personal Loan, Debt Consolidation Loan, Personal Loan, Personal Loan, and Payday Loan'\n",
            " 'Payday Loan, Auto Loan, and Credit-Builder Loan'\n",
            " 'Payday Loan, Personal Loan, Payday Loan, Mortgage Loan, Not Specified, and Debt Consolidation Loan'\n",
            " 'Not Specified, Credit-Builder Loan, Credit-Builder Loan, Credit-Builder Loan, Auto Loan, Personal Loan, and Not Specified'\n",
            " 'Mortgage Loan, Personal Loan, Home Equity Loan, Debt Consolidation Loan, Personal Loan, Personal Loan, and Credit-Builder Loan'\n",
            " 'Home Equity Loan, Not Specified, Not Specified, and Not Specified'\n",
            " 'Student Loan, Debt Consolidation Loan, and Mortgage Loan'\n",
            " 'Personal Loan, Not Specified, and Payday Loan'\n",
            " 'Personal Loan, Credit-Builder Loan, Not Specified, Debt Consolidation Loan, Personal Loan, Payday Loan, and Personal Loan'\n",
            " 'Personal Loan, Debt Consolidation Loan, Personal Loan, and Debt Consolidation Loan'\n",
            " 'Debt Consolidation Loan, Debt Consolidation Loan, Home Equity Loan, Payday Loan, Debt Consolidation Loan, Debt Consolidation Loan, Mortgage Loan, and Student Loan'\n",
            " 'Home Equity Loan, Payday Loan, Home Equity Loan, Personal Loan, and Credit-Builder Loan'\n",
            " 'Debt Consolidation Loan, Auto Loan, and Debt Consolidation Loan'\n",
            " 'Personal Loan, Payday Loan, and Home Equity Loan'\n",
            " 'Not Specified, Auto Loan, and Credit-Builder Loan'\n",
            " 'Credit-Builder Loan, Not Specified, Debt Consolidation Loan, and Mortgage Loan'\n",
            " 'Not Specified, Not Specified, Not Specified, Debt Consolidation Loan, Home Equity Loan, Mortgage Loan, Debt Consolidation Loan, Auto Loan, and Mortgage Loan'\n",
            " 'Payday Loan, and Student Loan'\n",
            " 'Personal Loan, Debt Consolidation Loan, Personal Loan, and Home Equity Loan'\n",
            " 'Personal Loan, Mortgage Loan, and Student Loan'\n",
            " 'Auto Loan, Debt Consolidation Loan, and Mortgage Loan'\n",
            " 'Auto Loan, Payday Loan, Payday Loan, Payday Loan, Not Specified, Mortgage Loan, Not Specified, and Not Specified'\n",
            " 'Mortgage Loan, Payday Loan, and Payday Loan'\n",
            " 'Personal Loan, Credit-Builder Loan, and Debt Consolidation Loan'\n",
            " 'Personal Loan, Home Equity Loan, and Mortgage Loan'\n",
            " 'Personal Loan, Student Loan, and Payday Loan'\n",
            " 'Auto Loan, Payday Loan, and Student Loan'\n",
            " 'Not Specified, Personal Loan, Mortgage Loan, and Personal Loan'\n",
            " 'Payday Loan, Payday Loan, Auto Loan, and Home Equity Loan'\n",
            " 'Personal Loan, Auto Loan, Not Specified, Not Specified, Credit-Builder Loan, Payday Loan, Student Loan, Mortgage Loan, and Debt Consolidation Loan'\n",
            " 'Student Loan, Personal Loan, Credit-Builder Loan, Credit-Builder Loan, and Payday Loan'\n",
            " 'Mortgage Loan, Mortgage Loan, Mortgage Loan, Personal Loan, and Home Equity Loan'\n",
            " 'Home Equity Loan, and Debt Consolidation Loan'\n",
            " 'Debt Consolidation Loan, Personal Loan, Student Loan, Personal Loan, and Auto Loan'\n",
            " 'Student Loan, Student Loan, Debt Consolidation Loan, Credit-Builder Loan, and Not Specified'\n",
            " 'Auto Loan, Credit-Builder Loan, Credit-Builder Loan, and Payday Loan'\n",
            " 'Home Equity Loan, Student Loan, Home Equity Loan, Student Loan, Student Loan, Not Specified, and Debt Consolidation Loan'\n",
            " 'Credit-Builder Loan, Credit-Builder Loan, Payday Loan, Mortgage Loan, and Payday Loan'\n",
            " 'Payday Loan, Home Equity Loan, Student Loan, Credit-Builder Loan, Payday Loan, and Mortgage Loan'\n",
            " 'Mortgage Loan, Personal Loan, Student Loan, Home Equity Loan, Home Equity Loan, Credit-Builder Loan, Auto Loan, and Student Loan'\n",
            " 'Personal Loan, Personal Loan, Debt Consolidation Loan, Personal Loan, and Not Specified'\n",
            " 'Not Specified, Personal Loan, Not Specified, and Mortgage Loan'\n",
            " 'Debt Consolidation Loan, and Personal Loan'\n",
            " 'Home Equity Loan, Credit-Builder Loan, and Auto Loan'\n",
            " 'Personal Loan, Debt Consolidation Loan, and Payday Loan'\n",
            " 'Auto Loan, Mortgage Loan, Not Specified, Not Specified, Auto Loan, Debt Consolidation Loan, Credit-Builder Loan, and Debt Consolidation Loan'\n",
            " 'Personal Loan, Student Loan, Credit-Builder Loan, Student Loan, Home Equity Loan, Auto Loan, Payday Loan, Mortgage Loan, and Not Specified'\n",
            " 'Mortgage Loan, Student Loan, Personal Loan, Credit-Builder Loan, Mortgage Loan, Home Equity Loan, and Credit-Builder Loan'\n",
            " 'Not Specified, Personal Loan, and Auto Loan'\n",
            " 'Mortgage Loan, Home Equity Loan, Personal Loan, and Auto Loan'\n",
            " 'Mortgage Loan, Auto Loan, Mortgage Loan, Not Specified, Payday Loan, and Personal Loan'\n",
            " 'Not Specified, Home Equity Loan, and Student Loan'\n",
            " 'Credit-Builder Loan, Mortgage Loan, Student Loan, and Not Specified'\n",
            " 'Credit-Builder Loan, Personal Loan, Mortgage Loan, Personal Loan, Not Specified, Auto Loan, and Mortgage Loan'\n",
            " 'Debt Consolidation Loan, Home Equity Loan, Auto Loan, and Credit-Builder Loan'\n",
            " 'Mortgage Loan, Mortgage Loan, Home Equity Loan, Not Specified, Not Specified, Not Specified, and Mortgage Loan'\n",
            " 'Credit-Builder Loan, Payday Loan, Auto Loan, and Auto Loan'\n",
            " 'Student Loan, Credit-Builder Loan, Payday Loan, Auto Loan, Payday Loan, Debt Consolidation Loan, and Student Loan'\n",
            " 'Not Specified, Personal Loan, Not Specified, Student Loan, Mortgage Loan, Not Specified, Student Loan, and Student Loan'\n",
            " 'Home Equity Loan, Student Loan, Not Specified, and Student Loan'\n",
            " 'Student Loan, Payday Loan, Mortgage Loan, and Credit-Builder Loan'\n",
            " 'Student Loan, Payday Loan, and Not Specified'\n",
            " 'Student Loan, Home Equity Loan, Student Loan, Home Equity Loan, Personal Loan, and Student Loan'\n",
            " 'Not Specified, Debt Consolidation Loan, Not Specified, Credit-Builder Loan, Debt Consolidation Loan, Credit-Builder Loan, and Home Equity Loan'\n",
            " 'Not Specified, Auto Loan, Payday Loan, and Debt Consolidation Loan'\n",
            " 'Auto Loan, Credit-Builder Loan, Not Specified, Not Specified, Student Loan, Not Specified, Home Equity Loan, Home Equity Loan, and Student Loan'\n",
            " 'Student Loan, Credit-Builder Loan, Auto Loan, Payday Loan, Auto Loan, and Debt Consolidation Loan'\n",
            " 'Credit-Builder Loan, and Home Equity Loan'\n",
            " 'Payday Loan, Student Loan, Personal Loan, and Debt Consolidation Loan'\n",
            " 'Credit-Builder Loan, Payday Loan, Debt Consolidation Loan, and Personal Loan'\n",
            " 'Debt Consolidation Loan, Not Specified, Credit-Builder Loan, Student Loan, Mortgage Loan, and Personal Loan'\n",
            " 'Credit-Builder Loan, Debt Consolidation Loan, Auto Loan, Not Specified, Payday Loan, Not Specified, and Credit-Builder Loan'\n",
            " 'Credit-Builder Loan, Payday Loan, Student Loan, Student Loan, Student Loan, Mortgage Loan, Debt Consolidation Loan, Student Loan, and Auto Loan'\n",
            " 'Not Specified, Credit-Builder Loan, Personal Loan, and Student Loan'\n",
            " 'Debt Consolidation Loan, Not Specified, Home Equity Loan, Auto Loan, Home Equity Loan, Payday Loan, Mortgage Loan, and Personal Loan'\n",
            " 'Auto Loan, Auto Loan, Credit-Builder Loan, and Credit-Builder Loan'\n",
            " 'Personal Loan, Mortgage Loan, Payday Loan, Mortgage Loan, Debt Consolidation Loan, Mortgage Loan, and Personal Loan'\n",
            " 'Personal Loan, Auto Loan, and Credit-Builder Loan'\n",
            " 'Credit-Builder Loan, Not Specified, Auto Loan, Debt Consolidation Loan, Mortgage Loan, Not Specified, and Mortgage Loan'\n",
            " 'Personal Loan, Auto Loan, and Mortgage Loan'\n",
            " 'Credit-Builder Loan, Personal Loan, Personal Loan, Student Loan, Personal Loan, and Student Loan'\n",
            " 'Credit-Builder Loan, Student Loan, Payday Loan, and Credit-Builder Loan'\n",
            " 'Mortgage Loan, Auto Loan, Payday Loan, and Personal Loan'\n",
            " 'Credit-Builder Loan, Home Equity Loan, and Credit-Builder Loan'\n",
            " 'Personal Loan, Debt Consolidation Loan, Payday Loan, Payday Loan, and Personal Loan'\n",
            " 'Credit-Builder Loan, Debt Consolidation Loan, and Student Loan'\n",
            " 'Payday Loan, Auto Loan, Personal Loan, and Auto Loan'\n",
            " 'Credit-Builder Loan, Auto Loan, and Auto Loan'\n",
            " 'Mortgage Loan, Payday Loan, and Mortgage Loan'\n",
            " 'Payday Loan, Personal Loan, Payday Loan, Mortgage Loan, and Payday Loan'\n",
            " 'Credit-Builder Loan, Student Loan, and Student Loan'\n",
            " 'Personal Loan, Payday Loan, Credit-Builder Loan, Auto Loan, Payday Loan, Credit-Builder Loan, Mortgage Loan, Home Equity Loan, and Credit-Builder Loan'\n",
            " 'Home Equity Loan, Personal Loan, Auto Loan, Payday Loan, and Mortgage Loan'\n",
            " 'Home Equity Loan, Payday Loan, Credit-Builder Loan, Personal Loan, Debt Consolidation Loan, Home Equity Loan, Debt Consolidation Loan, and Student Loan'\n",
            " 'Debt Consolidation Loan, Credit-Builder Loan, Not Specified, Debt Consolidation Loan, Credit-Builder Loan, Personal Loan, and Home Equity Loan'\n",
            " 'Home Equity Loan, Auto Loan, Credit-Builder Loan, and Mortgage Loan'\n",
            " 'Personal Loan, Auto Loan, Payday Loan, Student Loan, Auto Loan, Home Equity Loan, and Credit-Builder Loan'\n",
            " 'Payday Loan, Credit-Builder Loan, Debt Consolidation Loan, Payday Loan, Auto Loan, Personal Loan, Not Specified, Auto Loan, and Not Specified'\n",
            " 'Payday Loan, Personal Loan, Payday Loan, and Not Specified'\n",
            " 'Auto Loan, Debt Consolidation Loan, and Student Loan'\n",
            " 'Debt Consolidation Loan, Mortgage Loan, Auto Loan, Mortgage Loan, and Auto Loan'\n",
            " 'Student Loan, Student Loan, Not Specified, Personal Loan, and Debt Consolidation Loan'\n",
            " 'Mortgage Loan, Student Loan, Mortgage Loan, Student Loan, Payday Loan, and Debt Consolidation Loan'\n",
            " 'Payday Loan, Debt Consolidation Loan, Student Loan, and Home Equity Loan'\n",
            " 'Debt Consolidation Loan, Mortgage Loan, and Home Equity Loan'\n",
            " 'Student Loan, Mortgage Loan, Student Loan, Payday Loan, Home Equity Loan, Mortgage Loan, Payday Loan, Debt Consolidation Loan, and Student Loan'\n",
            " 'Auto Loan, Payday Loan, Home Equity Loan, Mortgage Loan, Mortgage Loan, Home Equity Loan, Personal Loan, Payday Loan, and Student Loan'\n",
            " 'Mortgage Loan, Credit-Builder Loan, Debt Consolidation Loan, Not Specified, Credit-Builder Loan, Home Equity Loan, Mortgage Loan, Auto Loan, and Credit-Builder Loan'\n",
            " 'Student Loan, Student Loan, Not Specified, Home Equity Loan, Personal Loan, Student Loan, Auto Loan, and Auto Loan'\n",
            " 'Not Specified, Not Specified, and Student Loan'\n",
            " 'Payday Loan, Home Equity Loan, Personal Loan, and Credit-Builder Loan'\n",
            " 'Payday Loan, Personal Loan, Student Loan, Credit-Builder Loan, Not Specified, Not Specified, Payday Loan, and Student Loan'\n",
            " 'Student Loan, Home Equity Loan, Student Loan, Not Specified, Auto Loan, Payday Loan, Home Equity Loan, Personal Loan, and Mortgage Loan'\n",
            " 'Payday Loan, Personal Loan, Auto Loan, Not Specified, Personal Loan, and Payday Loan'\n",
            " 'Debt Consolidation Loan, Home Equity Loan, Auto Loan, Home Equity Loan, and Not Specified'\n",
            " 'Payday Loan, Credit-Builder Loan, Payday Loan, and Debt Consolidation Loan'\n",
            " 'Mortgage Loan, Credit-Builder Loan, Personal Loan, Mortgage Loan, Personal Loan, Payday Loan, Payday Loan, Not Specified, and Credit-Builder Loan'\n",
            " 'Student Loan, Personal Loan, Payday Loan, Personal Loan, Home Equity Loan, and Debt Consolidation Loan'\n",
            " 'Student Loan, Student Loan, Not Specified, and Debt Consolidation Loan'\n",
            " 'Debt Consolidation Loan, Debt Consolidation Loan, Debt Consolidation Loan, Student Loan, Debt Consolidation Loan, Student Loan, and Not Specified'\n",
            " 'Personal Loan, Mortgage Loan, Not Specified, Student Loan, and Mortgage Loan'\n",
            " 'Home Equity Loan, Student Loan, and Home Equity Loan'\n",
            " 'Personal Loan, Personal Loan, and Personal Loan'\n",
            " 'Credit-Builder Loan, Not Specified, Not Specified, and Auto Loan'\n",
            " 'Debt Consolidation Loan, and Not Specified'\n",
            " 'Mortgage Loan, Not Specified, Personal Loan, Home Equity Loan, Not Specified, and Auto Loan'\n",
            " 'Auto Loan, Home Equity Loan, Debt Consolidation Loan, Payday Loan, Home Equity Loan, Student Loan, and Personal Loan'\n",
            " 'Auto Loan, Auto Loan, Debt Consolidation Loan, Payday Loan, Mortgage Loan, Credit-Builder Loan, and Auto Loan'\n",
            " 'Auto Loan, Credit-Builder Loan, Auto Loan, and Credit-Builder Loan'\n",
            " 'Auto Loan, Auto Loan, Mortgage Loan, and Mortgage Loan'\n",
            " 'Personal Loan, Auto Loan, Mortgage Loan, Auto Loan, Credit-Builder Loan, Auto Loan, Student Loan, Personal Loan, and Personal Loan'\n",
            " 'Student Loan, Home Equity Loan, Payday Loan, and Debt Consolidation Loan'\n",
            " 'Auto Loan, Payday Loan, Personal Loan, Credit-Builder Loan, Auto Loan, and Not Specified'\n",
            " 'Credit-Builder Loan, Auto Loan, Credit-Builder Loan, Home Equity Loan, and Auto Loan'\n",
            " 'Not Specified, Personal Loan, Student Loan, Not Specified, Credit-Builder Loan, Debt Consolidation Loan, and Home Equity Loan'\n",
            " 'Debt Consolidation Loan, Payday Loan, Debt Consolidation Loan, Student Loan, Not Specified, Payday Loan, and Debt Consolidation Loan'\n",
            " 'Not Specified, Auto Loan, Not Specified, Personal Loan, and Credit-Builder Loan'\n",
            " 'Home Equity Loan, Student Loan, Mortgage Loan, and Credit-Builder Loan'\n",
            " 'Student Loan, Student Loan, and Debt Consolidation Loan'\n",
            " 'Personal Loan, Auto Loan, Debt Consolidation Loan, and Student Loan'\n",
            " 'Payday Loan, Auto Loan, Debt Consolidation Loan, and Auto Loan'\n",
            " 'Student Loan, Mortgage Loan, Home Equity Loan, Debt Consolidation Loan, Home Equity Loan, Debt Consolidation Loan, Auto Loan, and Student Loan'\n",
            " 'Mortgage Loan, Personal Loan, Payday Loan, Student Loan, Not Specified, and Payday Loan'\n",
            " 'Personal Loan, Debt Consolidation Loan, Mortgage Loan, and Debt Consolidation Loan'\n",
            " 'Home Equity Loan, Student Loan, and Auto Loan'\n",
            " 'Student Loan, Auto Loan, Debt Consolidation Loan, and Mortgage Loan'\n",
            " 'Home Equity Loan, Personal Loan, Debt Consolidation Loan, Personal Loan, and Mortgage Loan'\n",
            " 'Personal Loan, Mortgage Loan, Not Specified, and Personal Loan'\n",
            " 'Credit-Builder Loan, Debt Consolidation Loan, and Not Specified'\n",
            " 'Not Specified, Debt Consolidation Loan, and Not Specified'\n",
            " 'Not Specified, Credit-Builder Loan, and Home Equity Loan'\n",
            " 'Not Specified, Not Specified, and Debt Consolidation Loan'\n",
            " 'Home Equity Loan, Mortgage Loan, Personal Loan, and Home Equity Loan'\n",
            " 'Student Loan, Auto Loan, Mortgage Loan, Debt Consolidation Loan, Auto Loan, Mortgage Loan, and Credit-Builder Loan'\n",
            " 'Personal Loan, Not Specified, and Not Specified'\n",
            " 'Mortgage Loan, Debt Consolidation Loan, and Debt Consolidation Loan'\n",
            " 'Not Specified, Student Loan, Not Specified, Payday Loan, Not Specified, and Home Equity Loan'\n",
            " 'Credit-Builder Loan, Personal Loan, Student Loan, and Not Specified'\n",
            " 'Student Loan, Student Loan, Mortgage Loan, and Not Specified'\n",
            " 'Mortgage Loan, Auto Loan, Home Equity Loan, and Credit-Builder Loan'\n",
            " 'Personal Loan, Mortgage Loan, Home Equity Loan, Student Loan, Student Loan, Credit-Builder Loan, and Credit-Builder Loan'\n",
            " 'Auto Loan, Mortgage Loan, and Not Specified'\n",
            " 'Credit-Builder Loan, Home Equity Loan, Credit-Builder Loan, Payday Loan, Student Loan, and Personal Loan'\n",
            " 'Mortgage Loan, Auto Loan, and Auto Loan'\n",
            " 'Mortgage Loan, Home Equity Loan, Personal Loan, Home Equity Loan, and Home Equity Loan'\n",
            " 'Student Loan, Payday Loan, Credit-Builder Loan, Not Specified, and Not Specified'\n",
            " 'Not Specified, and Student Loan'\n",
            " 'Student Loan, Not Specified, Debt Consolidation Loan, Payday Loan, Personal Loan, and Personal Loan'\n",
            " 'Not Specified, Debt Consolidation Loan, Payday Loan, Payday Loan, Home Equity Loan, Student Loan, Credit-Builder Loan, and Mortgage Loan'\n",
            " 'Auto Loan, Mortgage Loan, Student Loan, and Mortgage Loan'\n",
            " 'Payday Loan, Not Specified, Debt Consolidation Loan, Not Specified, Payday Loan, and Credit-Builder Loan'\n",
            " 'Credit-Builder Loan, Home Equity Loan, Credit-Builder Loan, Personal Loan, Credit-Builder Loan, and Payday Loan'\n",
            " 'Credit-Builder Loan, Credit-Builder Loan, Debt Consolidation Loan, and Not Specified'\n",
            " 'Mortgage Loan, Payday Loan, Auto Loan, Payday Loan, and Debt Consolidation Loan'\n",
            " 'Mortgage Loan, Home Equity Loan, and Student Loan'\n",
            " 'Debt Consolidation Loan, Debt Consolidation Loan, Credit-Builder Loan, Personal Loan, Auto Loan, Credit-Builder Loan, and Not Specified'\n",
            " 'Home Equity Loan, Student Loan, Personal Loan, and Credit-Builder Loan'\n",
            " 'Not Specified, Payday Loan, and Home Equity Loan'\n",
            " 'Debt Consolidation Loan, Home Equity Loan, Credit-Builder Loan, Student Loan, Credit-Builder Loan, Debt Consolidation Loan, Auto Loan, and Home Equity Loan'\n",
            " 'Home Equity Loan, Mortgage Loan, Payday Loan, Mortgage Loan, Mortgage Loan, and Payday Loan'\n",
            " 'Student Loan, Credit-Builder Loan, Payday Loan, Personal Loan, Credit-Builder Loan, Credit-Builder Loan, Not Specified, Home Equity Loan, and Not Specified'\n",
            " 'Credit-Builder Loan, Personal Loan, Payday Loan, and Student Loan'\n",
            " 'Student Loan, Auto Loan, Home Equity Loan, Auto Loan, Personal Loan, and Credit-Builder Loan'\n",
            " 'Student Loan, Home Equity Loan, Debt Consolidation Loan, and Payday Loan'\n",
            " 'Debt Consolidation Loan, Auto Loan, Home Equity Loan, Debt Consolidation Loan, and Credit-Builder Loan'\n",
            " 'Payday Loan, Student Loan, and Mortgage Loan'\n",
            " 'Student Loan, Mortgage Loan, Mortgage Loan, and Personal Loan'\n",
            " 'Debt Consolidation Loan, Mortgage Loan, and Payday Loan'\n",
            " 'Payday Loan, Payday Loan, Credit-Builder Loan, and Auto Loan'\n",
            " 'Not Specified, Debt Consolidation Loan, and Personal Loan'\n",
            " 'Home Equity Loan, Debt Consolidation Loan, and Payday Loan'\n",
            " 'Auto Loan, Debt Consolidation Loan, Debt Consolidation Loan, and Not Specified'\n",
            " 'Credit-Builder Loan, Debt Consolidation Loan, Personal Loan, and Not Specified'\n",
            " 'Mortgage Loan, Not Specified, Home Equity Loan, and Not Specified'\n",
            " 'Not Specified, Credit-Builder Loan, and Debt Consolidation Loan'\n",
            " 'Auto Loan, Debt Consolidation Loan, Personal Loan, and Debt Consolidation Loan'\n",
            " 'Payday Loan, Mortgage Loan, Student Loan, and Credit-Builder Loan'\n",
            " 'Payday Loan, Personal Loan, Home Equity Loan, Payday Loan, Not Specified, Home Equity Loan, and Payday Loan'\n",
            " 'Not Specified, Mortgage Loan, Debt Consolidation Loan, Mortgage Loan, and Auto Loan'\n",
            " 'Mortgage Loan, Personal Loan, and Student Loan'\n",
            " 'Credit-Builder Loan, Student Loan, Payday Loan, and Payday Loan'\n",
            " 'Auto Loan, Mortgage Loan, Personal Loan, and Not Specified'\n",
            " 'Mortgage Loan, Auto Loan, and Home Equity Loan'\n",
            " 'Mortgage Loan, Credit-Builder Loan, Not Specified, Student Loan, and Personal Loan'\n",
            " 'Home Equity Loan, Auto Loan, and Not Specified'\n",
            " 'Debt Consolidation Loan, Payday Loan, Student Loan, Not Specified, Mortgage Loan, Auto Loan, and Not Specified'\n",
            " 'Credit-Builder Loan, Personal Loan, Mortgage Loan, Debt Consolidation Loan, Debt Consolidation Loan, Home Equity Loan, and Payday Loan'\n",
            " 'Personal Loan, Payday Loan, Student Loan, Credit-Builder Loan, Credit-Builder Loan, Debt Consolidation Loan, Home Equity Loan, and Home Equity Loan'\n",
            " 'Not Specified, Auto Loan, Auto Loan, Debt Consolidation Loan, Mortgage Loan, and Credit-Builder Loan'\n",
            " 'Credit-Builder Loan, Student Loan, Mortgage Loan, Credit-Builder Loan, Credit-Builder Loan, and Personal Loan'\n",
            " 'Payday Loan, Mortgage Loan, Credit-Builder Loan, and Auto Loan'\n",
            " 'Home Equity Loan, Debt Consolidation Loan, Payday Loan, Debt Consolidation Loan, Personal Loan, Personal Loan, Personal Loan, Not Specified, and Debt Consolidation Loan'\n",
            " 'Not Specified, Personal Loan, Debt Consolidation Loan, and Credit-Builder Loan'\n",
            " 'Home Equity Loan, Auto Loan, and Personal Loan'\n",
            " 'Credit-Builder Loan, Debt Consolidation Loan, Debt Consolidation Loan, Personal Loan, Not Specified, and Payday Loan'\n",
            " 'Credit-Builder Loan, Student Loan, Home Equity Loan, and Personal Loan'\n",
            " 'Debt Consolidation Loan, Not Specified, and Auto Loan'\n",
            " 'Personal Loan, Student Loan, and Personal Loan'\n",
            " 'Personal Loan, Payday Loan, Credit-Builder Loan, Home Equity Loan, Home Equity Loan, Credit-Builder Loan, Mortgage Loan, and Payday Loan'\n",
            " 'Credit-Builder Loan, Debt Consolidation Loan, Student Loan, and Credit-Builder Loan'\n",
            " 'Mortgage Loan, Credit-Builder Loan, and Student Loan'\n",
            " 'Not Specified, Credit-Builder Loan, Mortgage Loan, Student Loan, Payday Loan, Not Specified, Payday Loan, Auto Loan, and Mortgage Loan'\n",
            " 'Student Loan, Mortgage Loan, and Auto Loan'\n",
            " 'Not Specified, Student Loan, Credit-Builder Loan, and Not Specified'\n",
            " 'Home Equity Loan, Not Specified, and Not Specified'\n",
            " 'Mortgage Loan, Payday Loan, Personal Loan, and Personal Loan'\n",
            " 'Mortgage Loan, Mortgage Loan, Home Equity Loan, Home Equity Loan, Debt Consolidation Loan, Payday Loan, and Not Specified'\n",
            " 'Personal Loan, Home Equity Loan, and Credit-Builder Loan'\n",
            " 'Auto Loan, Mortgage Loan, Debt Consolidation Loan, Personal Loan, Payday Loan, Mortgage Loan, Credit-Builder Loan, and Mortgage Loan'\n",
            " 'Auto Loan, Not Specified, Mortgage Loan, Debt Consolidation Loan, Not Specified, Debt Consolidation Loan, and Credit-Builder Loan'\n",
            " 'Personal Loan, Mortgage Loan, Not Specified, Home Equity Loan, and Student Loan'\n",
            " 'Student Loan, Auto Loan, Student Loan, Personal Loan, Auto Loan, and Debt Consolidation Loan'\n",
            " 'Student Loan, Student Loan, Personal Loan, Personal Loan, Mortgage Loan, and Not Specified'\n",
            " 'Mortgage Loan, Debt Consolidation Loan, Home Equity Loan, Not Specified, Payday Loan, Not Specified, and Payday Loan'\n",
            " 'Home Equity Loan, Payday Loan, and Payday Loan'\n",
            " 'Student Loan, Personal Loan, Credit-Builder Loan, Payday Loan, and Debt Consolidation Loan'\n",
            " 'Student Loan, Debt Consolidation Loan, Payday Loan, and Mortgage Loan'\n",
            " 'Personal Loan, Personal Loan, Personal Loan, and Auto Loan'\n",
            " 'Payday Loan, Home Equity Loan, Mortgage Loan, and Home Equity Loan'\n",
            " 'Auto Loan, Personal Loan, Home Equity Loan, and Credit-Builder Loan'\n",
            " 'Personal Loan, Student Loan, Auto Loan, Auto Loan, and Mortgage Loan'\n",
            " 'Auto Loan, Mortgage Loan, Student Loan, Student Loan, Personal Loan, and Personal Loan'\n",
            " 'Debt Consolidation Loan, Not Specified, and Home Equity Loan'\n",
            " 'Home Equity Loan, Debt Consolidation Loan, Not Specified, Not Specified, and Auto Loan'\n",
            " 'Home Equity Loan, Student Loan, Not Specified, Student Loan, Mortgage Loan, Not Specified, Payday Loan, Student Loan, and Student Loan'\n",
            " 'Mortgage Loan, Not Specified, Credit-Builder Loan, Not Specified, Home Equity Loan, Debt Consolidation Loan, and Payday Loan'\n",
            " 'Mortgage Loan, Payday Loan, Mortgage Loan, and Payday Loan'\n",
            " 'Student Loan, Payday Loan, Student Loan, Auto Loan, and Payday Loan'\n",
            " 'Debt Consolidation Loan, Payday Loan, Auto Loan, Auto Loan, Student Loan, and Payday Loan'\n",
            " 'Personal Loan, Not Specified, Mortgage Loan, Home Equity Loan, Mortgage Loan, Payday Loan, Payday Loan, Payday Loan, and Home Equity Loan'\n",
            " 'Mortgage Loan, Auto Loan, Payday Loan, Auto Loan, Payday Loan, and Auto Loan'\n",
            " 'Mortgage Loan, Mortgage Loan, Credit-Builder Loan, Not Specified, Debt Consolidation Loan, Not Specified, and Auto Loan'\n",
            " 'Not Specified, Home Equity Loan, Auto Loan, Personal Loan, Payday Loan, Student Loan, and Home Equity Loan'\n",
            " 'Student Loan, Payday Loan, and Debt Consolidation Loan'\n",
            " 'Personal Loan, Not Specified, Payday Loan, Auto Loan, Not Specified, Personal Loan, and Not Specified'\n",
            " 'Mortgage Loan, Debt Consolidation Loan, Debt Consolidation Loan, Credit-Builder Loan, and Credit-Builder Loan'\n",
            " 'Credit-Builder Loan, Student Loan, Auto Loan, Not Specified, Mortgage Loan, and Student Loan'\n",
            " 'Student Loan, Mortgage Loan, and Student Loan'\n",
            " 'Personal Loan, Credit-Builder Loan, Not Specified, and Personal Loan'\n",
            " 'Payday Loan, Not Specified, Home Equity Loan, Payday Loan, and Not Specified'\n",
            " 'Credit-Builder Loan, Credit-Builder Loan, Credit-Builder Loan, Debt Consolidation Loan, and Debt Consolidation Loan'\n",
            " 'Debt Consolidation Loan, Not Specified, and Debt Consolidation Loan'\n",
            " 'Student Loan, Payday Loan, and Home Equity Loan'\n",
            " 'Student Loan, Mortgage Loan, Credit-Builder Loan, Not Specified, Debt Consolidation Loan, Auto Loan, and Debt Consolidation Loan'\n",
            " 'Credit-Builder Loan, Payday Loan, Auto Loan, and Credit-Builder Loan'\n",
            " 'Home Equity Loan, Mortgage Loan, and Not Specified'\n",
            " 'Credit-Builder Loan, Payday Loan, Personal Loan, and Credit-Builder Loan'\n",
            " 'Debt Consolidation Loan, Auto Loan, and Payday Loan'\n",
            " 'Auto Loan, Payday Loan, Personal Loan, Not Specified, Payday Loan, Credit-Builder Loan, Credit-Builder Loan, Home Equity Loan, and Not Specified'\n",
            " 'Student Loan, Credit-Builder Loan, Student Loan, Home Equity Loan, and Student Loan'\n",
            " 'Personal Loan, Debt Consolidation Loan, and Debt Consolidation Loan']\n",
            "Problematic Values in 'Num_of_Delayed_Payment' column: ['8_' '13_' '14_' '12_' '22_' '11_' '183_' '9_' '19_' '24_' '3_' '23_'\n",
            " '20_' '6_' '1_' '18_' '5_' '16_' '17_' '7_' '15_' '0_' '10_' '4_' '2_'\n",
            " '25_']\n",
            "Problematic Values in 'Changed_Credit_Limit' column: ['_']\n",
            "Problematic Values in 'Credit_Mix' column: ['_' 'Good' 'Standard' 'Bad']\n",
            "Problematic Values in 'Outstanding_Debt' column: ['3818.57_' '343.84_' '1755.81_' '2593.44_' '89.62_' '1054.86_' '1374.23_'\n",
            " '457.81_' '1684.06_' '1126.35_' '1343.01_' '1435.94_' '2354.21_'\n",
            " '821.27_' '218.25_' '1274.59_' '642.42_' '94.75_' '4145.87_' '165.88_'\n",
            " '1286.68_' '2106.68_' '634.77_' '1235.48_' '669.35_' '70.66_' '1124.37_'\n",
            " '886.09_' '640.4_' '484.43_' '1539.61_' '539.59_' '802.47_' '289.1_'\n",
            " '4542.88_' '590.85_' '155.2_' '825.25_' '1644.31_' '282.06_' '3723.83_'\n",
            " '1017.45_' '60.04_' '2468.2_' '2234.83_' '4972.01_' '2107.76_' '291.71_'\n",
            " '281.42_' '174.79_' '4375.21_' '1912.96_' '3090.08_' '396.97_' '1457.54_'\n",
            " '479.81_' '3513.87_' '1202.05_']\n",
            "Problematic Values in 'Credit_History_Age' column: ['22 Years and 1 Months' '22 Years and 7 Months' '26 Years and 8 Months'\n",
            " '26 Years and 9 Months' '26 Years and 11 Months' '27 Years and 0 Months'\n",
            " '27 Years and 2 Months' '17 Years and 9 Months' '18 Years and 1 Months'\n",
            " '18 Years and 2 Months' '18 Years and 4 Months' '17 Years and 3 Months'\n",
            " '17 Years and 4 Months' '17 Years and 5 Months' '17 Years and 6 Months'\n",
            " '17 Years and 7 Months' '17 Years and 8 Months' '17 Years and 10 Months'\n",
            " '30 Years and 7 Months' '30 Years and 8 Months' '30 Years and 9 Months'\n",
            " '30 Years and 10 Months' '30 Years and 11 Months' '31 Years and 2 Months'\n",
            " '14 Years and 8 Months' '14 Years and 10 Months' '15 Years and 2 Months'\n",
            " '21 Years and 5 Months' '21 Years and 8 Months' '21 Years and 9 Months'\n",
            " '26 Years and 6 Months' '26 Years and 7 Months' '19 Years and 3 Months'\n",
            " '19 Years and 5 Months' '19 Years and 6 Months' '19 Years and 7 Months'\n",
            " '19 Years and 8 Months' '25 Years and 5 Months' '25 Years and 7 Months'\n",
            " '25 Years and 9 Months' '25 Years and 10 Months' '26 Years and 10 Months'\n",
            " '27 Years and 1 Months' '27 Years and 3 Months' '27 Years and 4 Months'\n",
            " '27 Years and 5 Months' '9 Years and 0 Months' '9 Years and 2 Months'\n",
            " '9 Years and 3 Months' '18 Years and 6 Months' '18 Years and 8 Months'\n",
            " '18 Years and 9 Months' '16 Years and 10 Months' '16 Years and 11 Months'\n",
            " '17 Years and 0 Months' '17 Years and 2 Months' '6 Years and 5 Months'\n",
            " '6 Years and 6 Months' '6 Years and 7 Months' '6 Years and 8 Months'\n",
            " '6 Years and 10 Months' '7 Years and 0 Months' '18 Years and 3 Months'\n",
            " '18 Years and 5 Months' '18 Years and 7 Months' '10 Years and 2 Months'\n",
            " '10 Years and 3 Months' '10 Years and 4 Months' '10 Years and 6 Months'\n",
            " '10 Years and 7 Months' '10 Years and 8 Months' '12 Years and 4 Months'\n",
            " '12 Years and 7 Months' '12 Years and 8 Months' '12 Years and 6 Months'\n",
            " '13 Years and 8 Months' '14 Years and 0 Months' '14 Years and 1 Months'\n",
            " '14 Years and 2 Months' '19 Years and 4 Months' '30 Years and 3 Months'\n",
            " '30 Years and 4 Months' '30 Years and 5 Months' '8 Years and 9 Months'\n",
            " '8 Years and 10 Months' '8 Years and 11 Months' '19 Years and 0 Months'\n",
            " '19 Years and 2 Months' '13 Years and 1 Months' '13 Years and 2 Months'\n",
            " '13 Years and 7 Months' '21 Years and 6 Months' '25 Years and 8 Months'\n",
            " '25 Years and 11 Months' '26 Years and 0 Months' '13 Years and 4 Months'\n",
            " '13 Years and 5 Months' '13 Years and 6 Months' '13 Years and 9 Months'\n",
            " '27 Years and 11 Months' '28 Years and 1 Months' '28 Years and 3 Months'\n",
            " '28 Years and 4 Months' '28 Years and 5 Months' '28 Years and 6 Months'\n",
            " '7 Years and 10 Months' '7 Years and 11 Months' '8 Years and 0 Months'\n",
            " '8 Years and 2 Months' '8 Years and 3 Months' '8 Years and 4 Months'\n",
            " '24 Years and 3 Months' '24 Years and 7 Months' '24 Years and 8 Months'\n",
            " '1 Years and 5 Months' '1 Years and 6 Months' '1 Years and 7 Months'\n",
            " '1 Years and 8 Months' '11 Years and 3 Months' '11 Years and 4 Months'\n",
            " '11 Years and 5 Months' '31 Years and 0 Months' '31 Years and 1 Months'\n",
            " '10 Years and 9 Months' '14 Years and 3 Months' '14 Years and 4 Months'\n",
            " '14 Years and 5 Months' '14 Years and 6 Months' '20 Years and 9 Months'\n",
            " '21 Years and 0 Months' '21 Years and 2 Months' '21 Years and 3 Months'\n",
            " '0 Years and 5 Months' '0 Years and 6 Months' '0 Years and 9 Months'\n",
            " '31 Years and 8 Months' '31 Years and 9 Months' '31 Years and 11 Months'\n",
            " '32 Years and 1 Months' '17 Years and 1 Months' '12 Years and 5 Months'\n",
            " '12 Years and 9 Months' '12 Years and 10 Months' '12 Years and 11 Months'\n",
            " '13 Years and 0 Months' '11 Years and 6 Months' '11 Years and 9 Months'\n",
            " '24 Years and 9 Months' '24 Years and 10 Months' '24 Years and 11 Months'\n",
            " '25 Years and 1 Months' '25 Years and 2 Months' '25 Years and 3 Months'\n",
            " '10 Years and 1 Months' '19 Years and 1 Months' '31 Years and 3 Months'\n",
            " '31 Years and 5 Months' '31 Years and 6 Months' '31 Years and 7 Months'\n",
            " '13 Years and 3 Months' '5 Years and 2 Months' '5 Years and 3 Months'\n",
            " '5 Years and 4 Months' '5 Years and 5 Months' '5 Years and 8 Months'\n",
            " '2 Years and 11 Months' '3 Years and 1 Months' '3 Years and 2 Months'\n",
            " '3 Years and 3 Months' '3 Years and 5 Months' '3 Years and 6 Months'\n",
            " '24 Years and 6 Months' '16 Years and 4 Months' '16 Years and 5 Months'\n",
            " '16 Years and 7 Months' '16 Years and 8 Months' '16 Years and 9 Months'\n",
            " '22 Years and 11 Months' '23 Years and 4 Months' '23 Years and 5 Months'\n",
            " '8 Years and 5 Months' '8 Years and 7 Months' '8 Years and 8 Months'\n",
            " '31 Years and 4 Months' '4 Years and 6 Months' '4 Years and 9 Months'\n",
            " '4 Years and 11 Months' '5 Years and 0 Months' '32 Years and 8 Months'\n",
            " '32 Years and 9 Months' '32 Years and 10 Months' '32 Years and 11 Months'\n",
            " '33 Years and 2 Months' '33 Years and 3 Months' '12 Years and 2 Months'\n",
            " '12 Years and 3 Months' '29 Years and 9 Months' '29 Years and 11 Months'\n",
            " '30 Years and 0 Months' '30 Years and 2 Months' '26 Years and 1 Months'\n",
            " '26 Years and 2 Months' '33 Years and 0 Months' '33 Years and 4 Months'\n",
            " '26 Years and 3 Months' '17 Years and 11 Months' '18 Years and 0 Months'\n",
            " '7 Years and 6 Months' '7 Years and 7 Months' '7 Years and 9 Months'\n",
            " '11 Years and 2 Months' '11 Years and 8 Months' '28 Years and 8 Months'\n",
            " '28 Years and 9 Months' '28 Years and 10 Months' '29 Years and 2 Months'\n",
            " '29 Years and 3 Months' '29 Years and 4 Months' '29 Years and 5 Months'\n",
            " '29 Years and 6 Months' '29 Years and 8 Months' '13 Years and 10 Months'\n",
            " '1 Years and 4 Months' '1 Years and 11 Months' '33 Years and 1 Months'\n",
            " '33 Years and 6 Months' '33 Years and 8 Months' '26 Years and 4 Months'\n",
            " '31 Years and 10 Months' '32 Years and 2 Months' '24 Years and 4 Months'\n",
            " '24 Years and 5 Months' '5 Years and 9 Months' '5 Years and 10 Months'\n",
            " '6 Years and 0 Months' '6 Years and 1 Months' '19 Years and 9 Months'\n",
            " '16 Years and 6 Months' '21 Years and 7 Months' '21 Years and 11 Months'\n",
            " '22 Years and 0 Months' '21 Years and 10 Months' '22 Years and 2 Months'\n",
            " '20 Years and 2 Months' '20 Years and 3 Months' '20 Years and 6 Months'\n",
            " '20 Years and 7 Months' '20 Years and 8 Months' '15 Years and 4 Months'\n",
            " '15 Years and 6 Months' '15 Years and 8 Months' '15 Years and 10 Months'\n",
            " '15 Years and 11 Months' '2 Years and 3 Months' '2 Years and 4 Months'\n",
            " '2 Years and 5 Months' '2 Years and 7 Months' '4 Years and 10 Months'\n",
            " '5 Years and 1 Months' '1 Years and 9 Months' '1 Years and 10 Months'\n",
            " '15 Years and 5 Months' '15 Years and 7 Months' '16 Years and 3 Months'\n",
            " '9 Years and 4 Months' '9 Years and 5 Months' '9 Years and 8 Months'\n",
            " '9 Years and 9 Months' '27 Years and 7 Months' '27 Years and 8 Months'\n",
            " '27 Years and 9 Months' '28 Years and 0 Months' '28 Years and 2 Months'\n",
            " '8 Years and 1 Months' '5 Years and 7 Months' '6 Years and 2 Months'\n",
            " '12 Years and 0 Months' '26 Years and 5 Months' '29 Years and 0 Months'\n",
            " '11 Years and 7 Months' '11 Years and 10 Months' '11 Years and 11 Months'\n",
            " '21 Years and 4 Months' '22 Years and 9 Months' '22 Years and 10 Months'\n",
            " '23 Years and 0 Months' '23 Years and 1 Months' '23 Years and 2 Months'\n",
            " '23 Years and 3 Months' '16 Years and 0 Months' '16 Years and 1 Months'\n",
            " '16 Years and 2 Months' '14 Years and 9 Months' '14 Years and 11 Months'\n",
            " '15 Years and 0 Months' '20 Years and 4 Months' '20 Years and 5 Months'\n",
            " '22 Years and 4 Months' '22 Years and 5 Months' '22 Years and 6 Months'\n",
            " '22 Years and 8 Months' '18 Years and 10 Months' '18 Years and 11 Months'\n",
            " '9 Years and 1 Months' '5 Years and 11 Months' '6 Years and 3 Months'\n",
            " '5 Years and 6 Months' '25 Years and 0 Months' '25 Years and 4 Months'\n",
            " '15 Years and 3 Months' '15 Years and 9 Months' '32 Years and 0 Months'\n",
            " '32 Years and 3 Months' '32 Years and 5 Months' '32 Years and 6 Months'\n",
            " '33 Years and 5 Months' '6 Years and 11 Months' '7 Years and 1 Months'\n",
            " '7 Years and 2 Months' '7 Years and 4 Months' '7 Years and 5 Months'\n",
            " '23 Years and 7 Months' '23 Years and 9 Months' '10 Years and 10 Months'\n",
            " '15 Years and 1 Months' '20 Years and 11 Months' '30 Years and 6 Months'\n",
            " '7 Years and 3 Months' '22 Years and 3 Months' '9 Years and 10 Months'\n",
            " '10 Years and 0 Months' '28 Years and 7 Months' '28 Years and 11 Months'\n",
            " '2 Years and 2 Months' '2 Years and 6 Months' '2 Years and 9 Months'\n",
            " '23 Years and 8 Months' '23 Years and 10 Months' '23 Years and 11 Months'\n",
            " '9 Years and 7 Months' '29 Years and 7 Months' '9 Years and 6 Months'\n",
            " '11 Years and 0 Months' '11 Years and 1 Months' '7 Years and 8 Months'\n",
            " '24 Years and 1 Months' '24 Years and 2 Months' '19 Years and 11 Months'\n",
            " '20 Years and 0 Months' '20 Years and 1 Months' '29 Years and 1 Months'\n",
            " '8 Years and 6 Months' '27 Years and 6 Months' '6 Years and 4 Months'\n",
            " '0 Years and 2 Months' '0 Years and 4 Months' '0 Years and 7 Months'\n",
            " '0 Years and 8 Months' '9 Years and 11 Months' '13 Years and 11 Months'\n",
            " '25 Years and 6 Months' '29 Years and 10 Months' '10 Years and 5 Months'\n",
            " '10 Years and 11 Months' '30 Years and 1 Months' '0 Years and 1 Months'\n",
            " '21 Years and 1 Months' '3 Years and 4 Months' '4 Years and 7 Months'\n",
            " '4 Years and 8 Months' '32 Years and 7 Months' '3 Years and 7 Months'\n",
            " '3 Years and 9 Months' '3 Years and 10 Months' '6 Years and 9 Months'\n",
            " '19 Years and 10 Months' '12 Years and 1 Months' '14 Years and 7 Months'\n",
            " '1 Years and 0 Months' '1 Years and 1 Months' '1 Years and 2 Months'\n",
            " '27 Years and 10 Months' '4 Years and 4 Months' '4 Years and 5 Months'\n",
            " '3 Years and 11 Months' '4 Years and 1 Months' '4 Years and 3 Months'\n",
            " '1 Years and 3 Months' '2 Years and 1 Months' '4 Years and 2 Months'\n",
            " '2 Years and 0 Months' '32 Years and 4 Months' '23 Years and 6 Months'\n",
            " '24 Years and 0 Months' '0 Years and 10 Months' '3 Years and 8 Months'\n",
            " '4 Years and 0 Months' '20 Years and 10 Months' '0 Years and 11 Months'\n",
            " '2 Years and 8 Months' '2 Years and 10 Months' '3 Years and 0 Months']\n",
            "Problematic Values in 'Payment_of_Min_Amount' column: ['No' 'NM' 'Yes']\n",
            "Problematic Values in 'Amount_invested_monthly' column: ['__10000__']\n",
            "Problematic Values in 'Payment_Behaviour' column: ['High_spent_Small_value_payments' 'Low_spent_Small_value_payments'\n",
            " 'High_spent_Large_value_payments' '!@9#%8'\n",
            " 'Low_spent_Large_value_payments' 'High_spent_Medium_value_payments'\n",
            " 'Low_spent_Medium_value_payments']\n",
            "Problematic Values in 'Monthly_Balance' column: ['__-333333333333333333333333333__']\n",
            "Problematic Values in 'Credit_Score' column: ['Good' 'Standard' 'Poor']\n"
          ]
        }
      ]
    },
    {
      "cell_type": "markdown",
      "source": [
        "### **Remoção de Linhas com Valores Ausentes ou Não Numéricos**"
      ],
      "metadata": {
        "id": "n-wJ0pqgbgbj"
      }
    },
    {
      "cell_type": "code",
      "source": [
        "data = data.dropna(subset=non_numeric_columns)\n"
      ],
      "metadata": {
        "id": "JCX6HOLCPb2c"
      },
      "execution_count": null,
      "outputs": []
    },
    {
      "cell_type": "markdown",
      "source": [
        "Possui o objetivo de exclui todas as entradas que possuem valores não numéricos ou ausentes em colunas não numéricas."
      ],
      "metadata": {
        "id": "7_Zac0lXbR8e"
      }
    },
    {
      "cell_type": "markdown",
      "source": [
        "### **Analise de valores problemáticos em colunas não numéricas**"
      ],
      "metadata": {
        "id": "X57G9sl5a5np"
      }
    },
    {
      "cell_type": "code",
      "source": [
        "relevant_columns = ['Age', 'Annual_Income']\n",
        "non_numeric_columns = data[relevant_columns].select_dtypes(exclude=[np.number]).columns\n",
        "\n",
        "for column in non_numeric_columns:\n",
        "    problematic_values = data[column][pd.to_numeric(data[column], errors='coerce').isna()].unique()\n",
        "    print(f\"Problematic Values in '{column}' column:\", problematic_values)\n",
        "\n"
      ],
      "metadata": {
        "colab": {
          "base_uri": "https://localhost:8080/"
        },
        "id": "m_yjSBRtPgBd",
        "outputId": "8a0015b8-e3d8-4b52-e06e-45d8220a86b7"
      },
      "execution_count": null,
      "outputs": [
        {
          "output_type": "stream",
          "name": "stdout",
          "text": [
            "Problematic Values in 'Age' column: []\n",
            "Problematic Values in 'Annual_Income' column: ['34847.84_' '30689.89_' '10183.015_' '12600.445_' '34290.12_' '43070.24_'\n",
            " '6515990.0_' '39641.54_' '148699.32_' '14165.23_' '78988.48_' '41746.76_'\n",
            " '73737.36_' '75273.24_' '54820.89_' '58674.66_' '30390.44_' '72330.98_'\n",
            " '43241.49_' '17787.34_' '66105.4_' '14205.09_' '144881.68_' '56803.71_'\n",
            " '8908998.0_' '15015.4_' '19777.05_' '30536.62_' '19795.52_' '18717.02_'\n",
            " '27796.42_' '41735.55_' '40391.66_' '7441.295_' '16578.115_' '35376.32_'\n",
            " '70112.78_' '68935.26_' '10025.2_' '28230.92_' '10623.765_' '83703.52_'\n",
            " '51824.94_' '11431.775_' '142170.12_' '30972.54_' '173196.32_'\n",
            " '46113.81_' '74733.44_' '20540.49_' '33200.52_' '65778.22_' '12016.0_'\n",
            " '63197.26_' '72241.02_' '125508.36_' '20742.46_' '55558.71_' '33447.42_'\n",
            " '15713.83_' '18744.4_' '12070.845_' '38539.57_' '48411.24_' '33314.96_'\n",
            " '62316.63_' '73434.92_' '15735.68_' '55662.64_' '162550.32_' '14884.465_'\n",
            " '31732.61_' '9349.475_' '66169.56_' '16813.54_' '68665.76_' '9307.24_'\n",
            " '69933.98_' '7506.125_' '17448.08_' '31087.66_' '82998.24_' '15119.56_'\n",
            " '18472.71_' '67614.24_' '8365.075_' '29625.82_' '17164.72_' '174179.64_'\n",
            " '21723268.0_' '21720.955_' '177243.92_' '8875.135_' '63635.12_'\n",
            " '11631.405_' '42941.85000000001_' '61463.94_' '8610.765_' '20978.49_'\n",
            " '15762.72_' '82840.24_' '7106.15_' '62139.51_' '59438.91_' '18936.55_'\n",
            " '21364.2_' '16808.35_' '11646.19_' '36591.25_' '41977.78_' '11731.585_'\n",
            " '36035.32_' '113383.13999999998_' '51552.60000000001_' '120260.2_'\n",
            " '51307.1_' '35118.1_' '15610.61_' '28128.16_' '61654.84_' '19519.57_'\n",
            " '70286.6_' '166907.72_' '81935.42_' '14675.83_' '9197.37_' '20492.45_'\n",
            " '27242.8_' '81411.2_' '73031.58_' '14535.105_' '19787.4_' '16893.44_'\n",
            " '77854.26_' '13486.615_' '34800.96_' '35836.84_' '20083.06_' '14144.48_'\n",
            " '20949.58_' '56987.92_' '10299.565_' '29353.04_' '43700.61_' '16471.35_'\n",
            " '29661.64_' '20397.26_' '37131.02_' '18921.78_' '122942.28_' '27814.63_'\n",
            " '17975.32_' '20871.42_' '30257.02_' '18507.72_' '77519.04_' '101954.94_'\n",
            " '128390.84_' '10320.67_' '60585.08_' '28446.58_' '35853.56_'\n",
            " '71424.56999999999_' '31633.94_' '173968.96_' '34447.49_' '83483.96_'\n",
            " '9599.265_' '8406.375_' '19590.31_' '41507.12_' '42769.78_' '20474.27_'\n",
            " '44747.54_' '52595.46_' '77930.28_' '56510.8_' '97003.11_' '18873.2_'\n",
            " '19934.08_' '15399.52_' '66174.84_' '19942.04_' '59908.68_' '86189.58_'\n",
            " '19848.365_' '165002.4_' '7046.5_' '28087.16_' '43504.07_' '28110.86_'\n",
            " '16564.89_' '7985.155_' '36901.31_' '79837.02_' '29840.22_' '146351.36_'\n",
            " '35205.24_' '121948.8_' '82065.16_' '20821.8_' '42888.45_' '59304.08_'\n",
            " '118879.68_' '39005.96_' '29143.88_' '34266.08_' '8227.855_' '46264.71_'\n",
            " '20758.37_' '45002.48_' '51333.99000000001_' '30450.84_' '22116.64_'\n",
            " '7006.52_' '35208.9_' '17654.72_' '131890.95_' '69699.66_'\n",
            " '59044.74000000001_' '40206.26_' '20460.96_' '53872.34_' '19997.48_'\n",
            " '123511.28_' '9542.28_' '63353.68_' '20059.775_' '35873.36_' '139538.32_'\n",
            " '75602.28_' '32107.52_' '68056.56_' '48428.10000000001_' '8086.58_'\n",
            " '39471.98_' '26217.46_' '87481.62_' '148990.16_' '148786.04_' '63093.32_'\n",
            " '34773.31_' '31741.57_' '18843.62_' '25795.97_' '68110.83_' '24667.16_'\n",
            " '9767.32_' '63149.2_' '23195.18_' '20516.18_' '15590.68_'\n",
            " '103968.38999999998_' '20377.7_' '35064.5_' '36151.31_' '110721.66_'\n",
            " '14276.64_' '15680.0_' '33835.16_' '28315.74_' '91642.4_' '8317.345_'\n",
            " '102080.46_' '16497.78_' '32900.5_' '31645.66_' '107451.03_' '91717.32_'\n",
            " '12062.27_' '40492.58_' '33409.33_' '138142.16_' '56714.52_' '100058.19_'\n",
            " '14407.92_' '18235.61_' '104708.79_' '7981.345_' '147221.48_' '25138.62_'\n",
            " '98917.23_' '64720.9_' '74820.12_' '29462.18_' '53530.53_' '129903.88_'\n",
            " '9546.425_' '78186.56_' '46640.82_' '32012.4_' '41176.49_' '84114.48_'\n",
            " '49417.52_' '84074.88_' '81427.02_' '82402.34_' '70978.44_' '17577.76_'\n",
            " '81091.76_' '31754.27_' '8961.865_' '17122.37_' '61664.0_' '62862.69_'\n",
            " '66749.64_' '53894.12_']\n"
          ]
        }
      ]
    },
    {
      "cell_type": "markdown",
      "source": [
        "Identificar e imprimir os valores problemáticos nas colunas que não são do tipo numérico no conjunto de dados."
      ],
      "metadata": {
        "id": "p4nDUaIGaciE"
      }
    },
    {
      "cell_type": "markdown",
      "source": [
        "### **Padronização de Colunas selecionadas para Valores Numéricos Válidos**"
      ],
      "metadata": {
        "id": "gJ1VqQzpccBR"
      }
    },
    {
      "cell_type": "code",
      "source": [
        "data[relevant_columns] = data[relevant_columns].apply(pd.to_numeric, errors='coerce').fillna(0)"
      ],
      "metadata": {
        "id": "BBw3-ke2PwOI"
      },
      "execution_count": null,
      "outputs": []
    },
    {
      "cell_type": "markdown",
      "source": [
        "Com o objetico de converter e padronizar as colunas selecionadas com conjunto de dados, transformando todas as entradas em números e preenchendo quaisquer valores não numéricos com 0.\n",
        "\n",
        "Assim podendo garantir que as colunas relevantes obtenham somente valores numéricos válidos."
      ],
      "metadata": {
        "id": "iCFC4kqtcAb9"
      }
    },
    {
      "cell_type": "markdown",
      "source": [
        "### **Limpeza e Análise de PCA de dados com visualização**"
      ],
      "metadata": {
        "id": "8ot5ALSQelj5"
      }
    },
    {
      "cell_type": "code",
      "source": [
        "data = data[pd.to_numeric(data['Age'], errors='coerce').notna()]\n",
        "data = data[pd.to_numeric(data['Annual_Income'], errors='coerce').notna()]\n",
        "\n",
        "from sklearn.decomposition import PCA\n",
        "import matplotlib.pyplot as plt\n",
        "\n",
        "X = data[['Age', 'Annual_Income']]\n",
        "pca = PCA(n_components=2)\n",
        "X_pca = pca.fit_transform(X)\n",
        "\n",
        "plt.scatter(X_pca[:, 0], X_pca[:, 1])\n",
        "plt.xlabel('Principal Component 1')\n",
        "plt.ylabel('Principal Component 2')\n",
        "plt.title('PCA')\n",
        "plt.show()\n",
        "\n",
        "explained_variance = pca.explained_variance_ratio_\n",
        "print(\"Explained Variance Ratio:\")\n",
        "print(explained_variance)"
      ],
      "metadata": {
        "colab": {
          "base_uri": "https://localhost:8080/",
          "height": 506
        },
        "id": "dhlqZ_JgPysa",
        "outputId": "ae90be6d-6c3f-4748-c2c9-a655f664cb14"
      },
      "execution_count": null,
      "outputs": [
        {
          "output_type": "display_data",
          "data": {
            "text/plain": [
              "<Figure size 640x480 with 1 Axes>"
            ],
            "image/png": "[encoded data removed]"
          },
          "metadata": {}
        },
        {
          "output_type": "stream",
          "name": "stdout",
          "text": [
            "Explained Variance Ratio:\n",
            "[9.99999654e-01 3.45620340e-07]\n"
          ]
        }
      ]
    },
    {
      "cell_type": "markdown",
      "source": [
        "Possui o objetivo de realizar a limpeza dos dados, eliminando as linhas com valores não numéricos em colunas específicas, com uma análise de Componentes Principais (PCA) nas colunas para redução de dimensionalidade e finalmente obtendo a visualização dos resultados dessa redução.\n",
        "\n",
        "Assim auxilia na compreensão de como as colunas 'Age' e 'Annual_Income' contribuem para a variação nos dados."
      ],
      "metadata": {
        "id": "hPr0DufGeP1f"
      }
    },
    {
      "cell_type": "markdown",
      "source": [
        "## **Conclusão**\n",
        "\n",
        "Após a limpeza dos dados problemáticos, utilizamos a análise de componentes principais (PCA) para visualizar como as variáveis `Age' e 'Annual_Income' estão relacionadas em um espaço bidimensional. Ao medir a importância dos componentes principais, foi determinada a contribuição relativa de cada variável para a variabilidade dos dados.\n",
        "\n",
        "A limpeza de dados e a análise de PCA são etapas valiosas na preparação dos dados para análise posterior, fornecendo informações sobre a estrutura e a importância das variáveis envolvidas. Essa abordagem o ajudará a tomar decisões sobre as análises subsequentes."
      ],
      "metadata": {
        "id": "738hIHTvojBx"
      }
    }
  ]
}